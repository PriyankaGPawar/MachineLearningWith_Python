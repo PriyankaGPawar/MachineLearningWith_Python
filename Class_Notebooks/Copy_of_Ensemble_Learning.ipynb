{
  "nbformat": 4,
  "nbformat_minor": 0,
  "metadata": {
    "colab": {
      "name": "Copy of Ensemble_Learning.ipynb",
      "provenance": [],
      "include_colab_link": true
    },
    "kernelspec": {
      "display_name": "Python 3",
      "language": "python",
      "name": "python3"
    },
    "language_info": {
      "codemirror_mode": {
        "name": "ipython",
        "version": 3
      },
      "file_extension": ".py",
      "mimetype": "text/x-python",
      "name": "python",
      "nbconvert_exporter": "python",
      "pygments_lexer": "ipython3",
      "version": "3.6.7"
    }
  },
  "cells": [
    {
      "cell_type": "markdown",
      "metadata": {
        "id": "view-in-github",
        "colab_type": "text"
      },
      "source": [
        "<a href=\"https://colab.research.google.com/github/PriyankaGPawar/MachineLearningWith_Python/blob/master/Class_Notebooks/Copy_of_Ensemble_Learning.ipynb\" target=\"_parent\"><img src=\"https://colab.research.google.com/assets/colab-badge.svg\" alt=\"Open In Colab\"/></a>"
      ]
    },
    {
      "cell_type": "markdown",
      "metadata": {
        "colab_type": "text",
        "id": "mGrpwDsAGR11"
      },
      "source": [
        "<center><img src=\"https://github.com/insaid2018/Term-1/blob/master/Images/INSAID_Full%20Logo.png?raw=true\" width=\"240\" height=\"200\" /></center>\n"
      ]
    },
    {
      "cell_type": "markdown",
      "metadata": {
        "colab_type": "text",
        "id": "8s_PDtW1GR12"
      },
      "source": [
        "<center><img src=\"https://raw.githubusercontent.com/insaid2018/Term-4/master/images/ensemble1.png\" /></center>"
      ]
    },
    {
      "cell_type": "markdown",
      "metadata": {
        "colab_type": "text",
        "id": "NBLz5hc9GR13"
      },
      "source": [
        "## Table of Content\n",
        "\n",
        "1. [Introduction to Ensemble Learning](#section1)<br>\n",
        "    - 1.1 [Implementation of Algorithm Using Python](#section101)<br>\n",
        "    - 1.2 [Advantages and Disadvantages](#section102)<br>\n",
        "2. [Use Case : Housing Data](#section2)<br>\n",
        "3. [Importing packages](#section3)<br>\n",
        "4. [Data loading and description](#section4)<br>\n",
        "5. [Exploratory Data Analysis](#section5)<br>\n",
        "6. [Modelling and Prediction](#section6)<br>\n",
        "    - 6.1 [Getting some classifiers to evaluate](#section601)<br>\n",
        "    - 6.2 [When to and how to use soft voting](#section602)<br>\n",
        "    - 6.3 [Create Bagging Classifiers](#section603)<br>\n",
        "    - 6.4 [Create Boosting Classifiers](#section604)<br>\n",
        "7. [Metric Comparison](#section7)\n",
        "7. [Conclusion](#section8)"
      ]
    },
    {
      "cell_type": "markdown",
      "metadata": {
        "colab_type": "text",
        "id": "gM2HCbN1GR14"
      },
      "source": [
        "<a id='section1'></a>\n",
        "## 1. Introduction"
      ]
    },
    {
      "cell_type": "markdown",
      "metadata": {
        "colab_type": "text",
        "id": "K5ybuGFXGR15"
      },
      "source": [
        "When you want to purchase some new laptop, will you walk up to the first shop and an purchase one based on the advice of the dealer there? It's highly unlikely. <img src=\"https://raw.githubusercontent.com/insaid2018/Term-4/master/images/ensemble2.png\" /> <br/>\n",
        "- You would __likely browse__ a few __web portals__ where people have posted their reviews and compare different laptop models, checking for their __features__, __speciifcations__ and __prices__.<br>\n",
        "- You will also probably __ask__ your __friends and colleagues__ for their opinion. <br>\n",
        "- In short, you wouldn’t directly reach a conclusion, but will instead make a decision __considering the opinions__ of other people as well.\n",
        "\n",
        "The objective of this notebook is to introduce the concept of __ensemble learning__ and understand the __algorithms__ which use this __technique__."
      ]
    },
    {
      "cell_type": "markdown",
      "metadata": {
        "colab_type": "text",
        "id": "Qt7dAGYeGR15"
      },
      "source": [
        "__Ensemble Learning__ : An ensemble is itself a __supervised learning algorithm__, becuase it can be __trained__ and then used to __make predictions__.<img src=\"https://raw.githubusercontent.com/insaid2018/Term-4/master/images/ensemble3.png\" />"
      ]
    },
    {
      "cell_type": "markdown",
      "metadata": {
        "colab_type": "text",
        "id": "mAcMJ07QGR16"
      },
      "source": [
        "Another way to think about Ensemble learning is __Fable of blind men and elephant__. \n",
        "- All of the blind men had their own description of the elephant. \n",
        "- Even though each of the description was true, it would have been better to come together and discuss their undertanding before coming to final conclusion. \n",
        "- This story perfectly describes the Ensemble learning method."
      ]
    },
    {
      "cell_type": "markdown",
      "metadata": {
        "colab_type": "text",
        "id": "OC8twgZlGR17"
      },
      "source": [
        "__Ensemble Algorithm__ : The _goal_ of ensemble algorithms is to __combine__ the __predictions of several base estimators__ built with a given learning algorithm in order to __improve robustness__ over a single estimator`."
      ]
    },
    {
      "cell_type": "markdown",
      "metadata": {
        "colab_type": "text",
        "id": "OynSp4rCGR18"
      },
      "source": [
        "<img src=\"https://raw.githubusercontent.com/insaid2018/Term-4/master/images/ensemble4.png\" />"
      ]
    },
    {
      "cell_type": "markdown",
      "metadata": {
        "colab_type": "text",
        "id": "AKGAp32yGR19"
      },
      "source": [
        "There are two families of ensemble methods which are usually distinguished:<br><br>\n",
        "1. __Averaging Method__ : The driving principle is to build a several estimators independetly and then to average their predictions. On average, the combined estimator is usually better than any of the single base estimator because its variance is reduced.<br>\n",
        "__Examples__: Bagging methods, Forests of randomized trees<br><br>\n",
        "\n",
        "2. __Boosting Methods__ : Base estimators are built sequentially and one tries to reduce the bias of combined estimator. This motivation is to combine several weak models to produce a powerful ensemble.<br>\n",
        "__Examples__: AdaBoost, Gradient Tree Boosting"
      ]
    },
    {
      "cell_type": "markdown",
      "metadata": {
        "colab_type": "text",
        "id": "AmynKo0WGR1-"
      },
      "source": [
        "Two most popular ensemble methods are __bagging__ and __boosting__<br><br>\n",
        "- __Bagging__: Training a bunch of individual models in a __parallel__ way. Each model is trained by a random subset of the data.<img src=\"https://raw.githubusercontent.com/insaid2018/Term-4/master/images/ensemble5.png\" />"
      ]
    },
    {
      "cell_type": "markdown",
      "metadata": {
        "colab_type": "text",
        "id": "zw1Q1WrhGR1-"
      },
      "source": [
        "- __Boosting__: Training a bunch of individual models in a __sequential__ way. Each individual model learns from mistakes made by the previous model.<img src=\"https://raw.githubusercontent.com/insaid2018/Term-4/master/images/ensemble6.png\" />"
      ]
    },
    {
      "cell_type": "markdown",
      "metadata": {
        "colab_type": "text",
        "id": "7j3AU5uEGR1_"
      },
      "source": [
        "<a id=\"section101\"></a>\n",
        "### 1.1 Implementation of algorithm using Python sklearn.\n",
        "### RANDOM FOREST"
      ]
    },
    {
      "cell_type": "markdown",
      "metadata": {
        "colab_type": "text",
        "id": "kenwmjT5GR2A"
      },
      "source": [
        "__Random forest__ is a model using __bagging__ as the ensemble method and __decision tree as the individual model__.<br>\n",
        "Let's take a look at the __magic of randomness__"
      ]
    },
    {
      "cell_type": "markdown",
      "metadata": {
        "colab_type": "text",
        "id": "561l3bJnGR2B"
      },
      "source": [
        "<img src=\"https://raw.githubusercontent.com/insaid2018/Term-4/master/images/ensemble7.png\" />\n",
        "Select __n (e.g. 1000) random subsets__ from the training set"
      ]
    },
    {
      "cell_type": "markdown",
      "metadata": {
        "colab_type": "text",
        "id": "BLQOoPvPGR2C"
      },
      "source": [
        "<img src=\"https://raw.githubusercontent.com/insaid2018/Term-4/master/images/ensemble8.png\" />\n",
        "__Train n (e.g. 1000) decision trees__\n",
        "\n",
        "- one random subset is used to train one decision tree<br><br>\n",
        "- the optimal splits for each decision tree are based on a random subset of features (e.g. 10 features in total, randomly select 5 out of 10 features to split)"
      ]
    },
    {
      "cell_type": "markdown",
      "metadata": {
        "colab_type": "text",
        "id": "JutyXZZDGR2D"
      },
      "source": [
        "<img src=\"https://raw.githubusercontent.com/insaid2018/Term-4/master/images/ensemble9.png\" /><br>\n",
        "__Each individual tree__ predicts the records/candidates in the test set, independently."
      ]
    },
    {
      "cell_type": "markdown",
      "metadata": {
        "colab_type": "text",
        "id": "4QVNdDQjGR2D"
      },
      "source": [
        "<img src=\"https://raw.githubusercontent.com/insaid2018/Term-4/master/images/ensembl10.png\" /><br>\n",
        " __Make the final prediction__\n",
        "\n",
        "For each candidate in the test set, Random Forest uses the class (e.g. cat or dog) with the __majority vote__ as this candidate’s final prediction.\n",
        "\n",
        "Of course, our 1000 trees are the parliament here."
      ]
    },
    {
      "cell_type": "markdown",
      "metadata": {
        "colab_type": "text",
        "id": "elsa8vIEGR2E"
      },
      "source": [
        "### ADABOOST (ADAPTIVE BOOSTING)"
      ]
    },
    {
      "cell_type": "markdown",
      "metadata": {
        "colab_type": "text",
        "id": "eE-UwQnoGR2F"
      },
      "source": [
        "- AdaBoost is a boosting model and works especially well with the decision tree. \n",
        "- Boosting model’s key is learning from the previous mistakes, e.g. misclassification data points."
      ]
    },
    {
      "cell_type": "markdown",
      "metadata": {
        "colab_type": "text",
        "id": "Xlo2ldrRGR2G"
      },
      "source": [
        "<img src=\"https://raw.githubusercontent.com/insaid2018/Term-4/master/images/ensemble11.png\" />"
      ]
    },
    {
      "cell_type": "markdown",
      "metadata": {
        "colab_type": "text",
        "id": "z2SHjkPBGR2H"
      },
      "source": [
        "__Step 0__: __Initialize the weights__ of data points. if the training set has __100__ data points, then __each point’s__ initial weight should be __1/100 = 0.01__."
      ]
    },
    {
      "cell_type": "markdown",
      "metadata": {
        "colab_type": "text",
        "id": "F8wt9QVeGR2I"
      },
      "source": [
        "__Step 1__: __Train__ a decision tree"
      ]
    },
    {
      "cell_type": "markdown",
      "metadata": {
        "colab_type": "text",
        "id": "ddUThH4wGR2I"
      },
      "source": [
        "__Step 2__: \n",
        "- __Calculate the weighted error rate (e)__ of the decision tree. \n",
        "- The weighted error rate (e) is just __how many wrong predictions__ out of total and you treat the wrong predictions differently based on its data point’s weight. \n",
        "- __The higher the weight, the more the corresponding error will be weighted__ during the calculation of the (e)."
      ]
    },
    {
      "cell_type": "markdown",
      "metadata": {
        "colab_type": "text",
        "id": "cy2yEYsIGR2J"
      },
      "source": [
        "__Step 3__: \n",
        "- __Calculate this decision tree’s weight__ in the ensemble\n",
        "\n",
        "- The weight of this tree = learning rate * log( (1 — e) / e)\n",
        "\n",
        "- The __higher weighted error__ rate of a tree, 😫, the __less decision power__ the tree will be given during the later voting and 😃 vice versa."
      ]
    },
    {
      "cell_type": "markdown",
      "metadata": {
        "colab_type": "text",
        "id": "9SyUsWWpGR2L"
      },
      "source": [
        "__Step 4__: \n",
        "- __Update weights__ of wrongly classified points\n",
        "\n",
        "The weight of each data point =\n",
        "\n",
        "    - if the model got this data point correct, the weight stays the same\n",
        "    - if the model got this data point wrong, the new weight of this point = old weight * np.exp(weight of this tree)\n",
        "__Note__: \n",
        "- The __higher the weight__ of the tree (more accurate this tree performs), the __more boost__ (importance) the misclassified data point by this tree will get. \n",
        "- The weights of the data points are __normalized after all the misclassified points are updated__."
      ]
    },
    {
      "cell_type": "markdown",
      "metadata": {
        "colab_type": "text",
        "id": "HS7I4cqZGR2L"
      },
      "source": [
        "__Step 5__: __Repeat__ Step 1(until the number of trees we set to train is reached)<br>\n",
        "\n",
        "__Step 6__: __Make the final prediction__"
      ]
    },
    {
      "cell_type": "markdown",
      "metadata": {
        "colab_type": "text",
        "id": "8aCH694BGR2M"
      },
      "source": [
        "<img src=\"https://raw.githubusercontent.com/insaid2018/Term-4/master/images/ensemble12.png\" /><br>\n",
        "\n",
        "- The tree with __higher weight__ will have __more power of influence__ on the final decision."
      ]
    },
    {
      "cell_type": "markdown",
      "metadata": {
        "colab_type": "text",
        "id": "XvJLk9H0GR2N"
      },
      "source": [
        "### GRADIENT BOOSTING"
      ]
    },
    {
      "cell_type": "markdown",
      "metadata": {
        "colab_type": "text",
        "id": "yN79V5VtGR2O"
      },
      "source": [
        "Boosting model's __key is learning from previous mistakes__.<br><br>\n",
        "Gradient Boosting learns from the mistake - __residual error directly__, rather than update the weights of data points"
      ]
    },
    {
      "cell_type": "markdown",
      "metadata": {
        "colab_type": "text",
        "id": "h1DBqklGGR2P"
      },
      "source": [
        "Let's see __how Gradient Boosting works__:<br>\n",
        "<img src=\"https://raw.githubusercontent.com/insaid2018/Term-4/master/images/ensemble13.png\" />"
      ]
    },
    {
      "cell_type": "markdown",
      "metadata": {
        "colab_type": "text",
        "id": "NACeuLzqGR2Q"
      },
      "source": [
        "__Step 1__: \n",
        "__Train__ a decision tree\n",
        "\n",
        "__Step 2__: \n",
        "__Apply__ the decision tree just trained to predict\n",
        "\n",
        "__Step 3__: \n",
        "__Calculate__ the residual of this decision tree, Save residual errors as the new y\n",
        "\n",
        "__Step 4__: \n",
        "__Repeat__ Step 1 (until the number of trees we set to train is reached)\n",
        "\n",
        "__Step 5__: \n",
        "__Make the final prediction__"
      ]
    },
    {
      "cell_type": "markdown",
      "metadata": {
        "colab_type": "text",
        "id": "1A7NRzeAGR2Q"
      },
      "source": [
        "<img src=\"https://raw.githubusercontent.com/insaid2018/Term-4/master/images/ensemble14.png\" /><br>\n",
        "The Gradient Boosting makes a __new prediction by simply adding up the predictions__(of all trees)."
      ]
    },
    {
      "cell_type": "markdown",
      "metadata": {
        "colab_type": "text",
        "id": "vbEYSHB2GR2R"
      },
      "source": [
        "<a id=\"section102\"></a>\n",
        "### 1.2 Advantages of Ensemble Algorithm:\n",
        "\n",
        "- Ensemble is a proven method for __improving the accuracy__ of the model and works in most of the cases.\n",
        "\n",
        "- Ensemble makes the model more __robust__ and __stable__ thus entering decent performance on the test cases in more scenarios.\n",
        "\n",
        "- You can ensemble to capture __linear__ and simple as well __non-linear__ complex relationships in the data. \n",
        "- This can be done by using __two different models__ and forming an __ensemble of two__."
      ]
    },
    {
      "cell_type": "markdown",
      "metadata": {
        "colab_type": "text",
        "id": "68XvgZwSGR2S"
      },
      "source": [
        "## Disadvantages of Ensemble Algorithm:\n",
        "\n",
        "- Ensemble __reduce the model interpret-ability__ and makes it very difficult to draw any crucial business insights at the end.\n",
        "\n",
        "- It is __time-consuming__ and thus might not be the best idea for real-time applications.\n",
        "\n",
        "- The __selection of models__ for creating an ensemble is an __art__ which is really hard to master"
      ]
    },
    {
      "cell_type": "markdown",
      "metadata": {
        "colab_type": "text",
        "id": "PEg7MQYIQqM5"
      },
      "source": [
        "<a id=\"section2\"></a>\n",
        "## 2.  Use Case: Housing Data\n",
        "The example below looks at housing data, to see if the price classification of a house (low, medium, and high) can be determined by a few characteristics:\n",
        "\n",
        "- The lot size;\n",
        "- No. of bedrooms;\n",
        "- No. of bathrooms;\n",
        "- No. of stories;\n",
        "- Has driveway, etc.\n",
        "The housing data from `pydataset` was used to show the difference in classification accuracy for our various ensemble methods. As a caveat, I think this is a good dataset, however there are too many binary variables."
      ]
    },
    {
      "cell_type": "markdown",
      "metadata": {
        "colab_type": "text",
        "id": "CWESesdaQYC2"
      },
      "source": [
        "### Motivation\n",
        "Housing prices and how you would think about classifying a person’s house selling price as low, medium, or high. Is there one rule you would use to determine this classification, or would you use a variety of rules based on different factors?\n",
        "\n",
        "You would of course use various rules, such as:\n",
        "\n",
        "- Walking distance to public schools;\n",
        "- The age of the house and expected renovations;\n",
        "- How big the backyard is;\n",
        "- Drive time to the city and the accessibility of transit, etc.\n",
        "\n",
        "Just as these few questions cannot be solved by one analysis, but rather solved by different and overlapping analytical approaches. And, this is the heart of ensemble modelling."
      ]
    },
    {
      "cell_type": "markdown",
      "metadata": {
        "colab_type": "text",
        "id": "kd5zNThNQYC4"
      },
      "source": [
        "<a id=\"section3\"></a>\n",
        "## 3. Importing Packages"
      ]
    },
    {
      "cell_type": "code",
      "metadata": {
        "colab_type": "code",
        "id": "LSBREUdnGR2W",
        "outputId": "750c9dea-d398-46ee-b4c7-96d9e7c96ad6",
        "colab": {
          "base_uri": "https://localhost:8080/",
          "height": 353
        }
      },
      "source": [
        "!pip install pydataset\n",
        "\n",
        "%matplotlib inline\n",
        "import pandas as pd\n",
        "import numpy as np\n",
        "import matplotlib.pyplot as plt\n",
        "import seaborn as sns\n",
        "from sklearn.preprocessing import LabelEncoder\n",
        "from pydataset import data  # Import housing data\n",
        "\n",
        "# To supress all the warnings\n",
        "import warnings\n",
        "warnings.filterwarnings(\"ignore\")"
      ],
      "execution_count": 0,
      "outputs": [
        {
          "output_type": "stream",
          "text": [
            "Collecting pydataset\n",
            "\u001b[?25l  Downloading https://files.pythonhosted.org/packages/4f/15/548792a1bb9caf6a3affd61c64d306b08c63c8a5a49e2c2d931b67ec2108/pydataset-0.2.0.tar.gz (15.9MB)\n",
            "\u001b[K     |████████████████████████████████| 15.9MB 258kB/s \n",
            "\u001b[?25hRequirement already satisfied: pandas in /usr/local/lib/python3.6/dist-packages (from pydataset) (1.0.4)\n",
            "Requirement already satisfied: pytz>=2017.2 in /usr/local/lib/python3.6/dist-packages (from pandas->pydataset) (2018.9)\n",
            "Requirement already satisfied: numpy>=1.13.3 in /usr/local/lib/python3.6/dist-packages (from pandas->pydataset) (1.18.4)\n",
            "Requirement already satisfied: python-dateutil>=2.6.1 in /usr/local/lib/python3.6/dist-packages (from pandas->pydataset) (2.8.1)\n",
            "Requirement already satisfied: six>=1.5 in /usr/local/lib/python3.6/dist-packages (from python-dateutil>=2.6.1->pandas->pydataset) (1.12.0)\n",
            "Building wheels for collected packages: pydataset\n",
            "  Building wheel for pydataset (setup.py) ... \u001b[?25l\u001b[?25hdone\n",
            "  Created wheel for pydataset: filename=pydataset-0.2.0-cp36-none-any.whl size=15939430 sha256=85972daaae410428199dc8f31c7d9ac2ac31268979b229412ac4978bd95cf17f\n",
            "  Stored in directory: /root/.cache/pip/wheels/fe/3f/dc/5d02ccc767317191b12d042dd920fcf3432fab74bc7978598b\n",
            "Successfully built pydataset\n",
            "Installing collected packages: pydataset\n",
            "Successfully installed pydataset-0.2.0\n"
          ],
          "name": "stdout"
        },
        {
          "output_type": "stream",
          "text": [
            "/usr/local/lib/python3.6/dist-packages/statsmodels/tools/_testing.py:19: FutureWarning: pandas.util.testing is deprecated. Use the functions in the public API at pandas.testing instead.\n",
            "  import pandas.util.testing as tm\n"
          ],
          "name": "stderr"
        },
        {
          "output_type": "stream",
          "text": [
            "initiated datasets repo at: /root/.pydataset/\n"
          ],
          "name": "stdout"
        }
      ]
    },
    {
      "cell_type": "markdown",
      "metadata": {
        "colab_type": "text",
        "id": "MG_l4VwVQYC-"
      },
      "source": [
        "<a id=\"section4\"></a>\n",
        "## 4.  Loading the data"
      ]
    },
    {
      "cell_type": "markdown",
      "metadata": {
        "colab_type": "text",
        "id": "YXtNDQj8XMCB"
      },
      "source": [
        "__Note__: For the given data set it's important that here that we are directly using preprocessed data. Because over here our main objective it to have better understanding of Optimization algorithms. "
      ]
    },
    {
      "cell_type": "code",
      "metadata": {
        "colab_type": "code",
        "id": "lmAU8GK8QYC_",
        "colab": {}
      },
      "source": [
        "data=pd.read_csv('https://raw.githubusercontent.com/insaid2018/Term-4/master/Data/Assignment/house_data.csv')"
      ],
      "execution_count": 0,
      "outputs": []
    },
    {
      "cell_type": "code",
      "metadata": {
        "colab_type": "code",
        "id": "cOCuMH8dQYDB",
        "outputId": "ca0016e6-c314-4757-e290-4167ce116d62",
        "colab": {
          "base_uri": "https://localhost:8080/",
          "height": 199
        }
      },
      "source": [
        "data.head()"
      ],
      "execution_count": 0,
      "outputs": [
        {
          "output_type": "execute_result",
          "data": {
            "text/html": [
              "<div>\n",
              "<style scoped>\n",
              "    .dataframe tbody tr th:only-of-type {\n",
              "        vertical-align: middle;\n",
              "    }\n",
              "\n",
              "    .dataframe tbody tr th {\n",
              "        vertical-align: top;\n",
              "    }\n",
              "\n",
              "    .dataframe thead th {\n",
              "        text-align: right;\n",
              "    }\n",
              "</style>\n",
              "<table border=\"1\" class=\"dataframe\">\n",
              "  <thead>\n",
              "    <tr style=\"text-align: right;\">\n",
              "      <th></th>\n",
              "      <th>price</th>\n",
              "      <th>lotsize</th>\n",
              "      <th>bedrooms</th>\n",
              "      <th>bathrms</th>\n",
              "      <th>stories</th>\n",
              "      <th>driveway</th>\n",
              "      <th>recroom</th>\n",
              "      <th>fullbase</th>\n",
              "      <th>gashw</th>\n",
              "      <th>airco</th>\n",
              "      <th>garagepl</th>\n",
              "      <th>prefarea</th>\n",
              "    </tr>\n",
              "  </thead>\n",
              "  <tbody>\n",
              "    <tr>\n",
              "      <th>0</th>\n",
              "      <td>0</td>\n",
              "      <td>5850</td>\n",
              "      <td>3</td>\n",
              "      <td>1</td>\n",
              "      <td>2</td>\n",
              "      <td>1</td>\n",
              "      <td>0</td>\n",
              "      <td>1</td>\n",
              "      <td>0</td>\n",
              "      <td>0</td>\n",
              "      <td>1</td>\n",
              "      <td>0</td>\n",
              "    </tr>\n",
              "    <tr>\n",
              "      <th>1</th>\n",
              "      <td>0</td>\n",
              "      <td>4000</td>\n",
              "      <td>2</td>\n",
              "      <td>1</td>\n",
              "      <td>1</td>\n",
              "      <td>1</td>\n",
              "      <td>0</td>\n",
              "      <td>0</td>\n",
              "      <td>0</td>\n",
              "      <td>0</td>\n",
              "      <td>0</td>\n",
              "      <td>0</td>\n",
              "    </tr>\n",
              "    <tr>\n",
              "      <th>2</th>\n",
              "      <td>0</td>\n",
              "      <td>3060</td>\n",
              "      <td>3</td>\n",
              "      <td>1</td>\n",
              "      <td>1</td>\n",
              "      <td>1</td>\n",
              "      <td>0</td>\n",
              "      <td>0</td>\n",
              "      <td>0</td>\n",
              "      <td>0</td>\n",
              "      <td>0</td>\n",
              "      <td>0</td>\n",
              "    </tr>\n",
              "    <tr>\n",
              "      <th>3</th>\n",
              "      <td>1</td>\n",
              "      <td>6650</td>\n",
              "      <td>3</td>\n",
              "      <td>1</td>\n",
              "      <td>2</td>\n",
              "      <td>1</td>\n",
              "      <td>1</td>\n",
              "      <td>0</td>\n",
              "      <td>0</td>\n",
              "      <td>0</td>\n",
              "      <td>0</td>\n",
              "      <td>0</td>\n",
              "    </tr>\n",
              "    <tr>\n",
              "      <th>4</th>\n",
              "      <td>1</td>\n",
              "      <td>6360</td>\n",
              "      <td>2</td>\n",
              "      <td>1</td>\n",
              "      <td>1</td>\n",
              "      <td>1</td>\n",
              "      <td>0</td>\n",
              "      <td>0</td>\n",
              "      <td>0</td>\n",
              "      <td>0</td>\n",
              "      <td>0</td>\n",
              "      <td>0</td>\n",
              "    </tr>\n",
              "  </tbody>\n",
              "</table>\n",
              "</div>"
            ],
            "text/plain": [
              "   price  lotsize  bedrooms  bathrms  ...  gashw  airco  garagepl  prefarea\n",
              "0      0     5850         3        1  ...      0      0         1         0\n",
              "1      0     4000         2        1  ...      0      0         0         0\n",
              "2      0     3060         3        1  ...      0      0         0         0\n",
              "3      1     6650         3        1  ...      0      0         0         0\n",
              "4      1     6360         2        1  ...      0      0         0         0\n",
              "\n",
              "[5 rows x 12 columns]"
            ]
          },
          "metadata": {
            "tags": []
          },
          "execution_count": 3
        }
      ]
    },
    {
      "cell_type": "code",
      "metadata": {
        "id": "yjvR4rhoKHO3",
        "colab_type": "code",
        "outputId": "95bc868d-5d6d-4d1b-bf33-d3b8f5aca3fc",
        "colab": {
          "base_uri": "https://localhost:8080/",
          "height": 34
        }
      },
      "source": [
        "data.shape"
      ],
      "execution_count": 0,
      "outputs": [
        {
          "output_type": "execute_result",
          "data": {
            "text/plain": [
              "(546, 12)"
            ]
          },
          "metadata": {
            "tags": []
          },
          "execution_count": 4
        }
      ]
    },
    {
      "cell_type": "code",
      "metadata": {
        "id": "pgnYxj0ILDdy",
        "colab_type": "code",
        "outputId": "cdc3bd5a-8584-4ddf-e54f-2fb284a7c056",
        "colab": {
          "base_uri": "https://localhost:8080/",
          "height": 410
        }
      },
      "source": [
        ""
      ],
      "execution_count": 0,
      "outputs": [
        {
          "output_type": "execute_result",
          "data": {
            "text/html": [
              "<div>\n",
              "<style scoped>\n",
              "    .dataframe tbody tr th:only-of-type {\n",
              "        vertical-align: middle;\n",
              "    }\n",
              "\n",
              "    .dataframe tbody tr th {\n",
              "        vertical-align: top;\n",
              "    }\n",
              "\n",
              "    .dataframe thead th {\n",
              "        text-align: right;\n",
              "    }\n",
              "</style>\n",
              "<table border=\"1\" class=\"dataframe\">\n",
              "  <thead>\n",
              "    <tr style=\"text-align: right;\">\n",
              "      <th></th>\n",
              "      <th>airco</th>\n",
              "      <th>price</th>\n",
              "      <th>prefarea</th>\n",
              "      <th>bedrooms</th>\n",
              "      <th>stories</th>\n",
              "    </tr>\n",
              "  </thead>\n",
              "  <tbody>\n",
              "    <tr>\n",
              "      <th>0</th>\n",
              "      <td>0</td>\n",
              "      <td>0</td>\n",
              "      <td>0</td>\n",
              "      <td>3</td>\n",
              "      <td>2</td>\n",
              "    </tr>\n",
              "    <tr>\n",
              "      <th>1</th>\n",
              "      <td>0</td>\n",
              "      <td>0</td>\n",
              "      <td>0</td>\n",
              "      <td>2</td>\n",
              "      <td>1</td>\n",
              "    </tr>\n",
              "    <tr>\n",
              "      <th>2</th>\n",
              "      <td>0</td>\n",
              "      <td>0</td>\n",
              "      <td>0</td>\n",
              "      <td>3</td>\n",
              "      <td>1</td>\n",
              "    </tr>\n",
              "    <tr>\n",
              "      <th>3</th>\n",
              "      <td>0</td>\n",
              "      <td>1</td>\n",
              "      <td>0</td>\n",
              "      <td>3</td>\n",
              "      <td>2</td>\n",
              "    </tr>\n",
              "    <tr>\n",
              "      <th>4</th>\n",
              "      <td>0</td>\n",
              "      <td>1</td>\n",
              "      <td>0</td>\n",
              "      <td>2</td>\n",
              "      <td>1</td>\n",
              "    </tr>\n",
              "    <tr>\n",
              "      <th>...</th>\n",
              "      <td>...</td>\n",
              "      <td>...</td>\n",
              "      <td>...</td>\n",
              "      <td>...</td>\n",
              "      <td>...</td>\n",
              "    </tr>\n",
              "    <tr>\n",
              "      <th>541</th>\n",
              "      <td>1</td>\n",
              "      <td>2</td>\n",
              "      <td>0</td>\n",
              "      <td>3</td>\n",
              "      <td>4</td>\n",
              "    </tr>\n",
              "    <tr>\n",
              "      <th>542</th>\n",
              "      <td>1</td>\n",
              "      <td>2</td>\n",
              "      <td>0</td>\n",
              "      <td>3</td>\n",
              "      <td>4</td>\n",
              "    </tr>\n",
              "    <tr>\n",
              "      <th>543</th>\n",
              "      <td>1</td>\n",
              "      <td>2</td>\n",
              "      <td>0</td>\n",
              "      <td>3</td>\n",
              "      <td>4</td>\n",
              "    </tr>\n",
              "    <tr>\n",
              "      <th>544</th>\n",
              "      <td>1</td>\n",
              "      <td>2</td>\n",
              "      <td>0</td>\n",
              "      <td>3</td>\n",
              "      <td>2</td>\n",
              "    </tr>\n",
              "    <tr>\n",
              "      <th>545</th>\n",
              "      <td>1</td>\n",
              "      <td>2</td>\n",
              "      <td>0</td>\n",
              "      <td>3</td>\n",
              "      <td>2</td>\n",
              "    </tr>\n",
              "  </tbody>\n",
              "</table>\n",
              "<p>546 rows × 5 columns</p>\n",
              "</div>"
            ],
            "text/plain": [
              "     airco  price  prefarea  bedrooms  stories\n",
              "0        0      0         0         3        2\n",
              "1        0      0         0         2        1\n",
              "2        0      0         0         3        1\n",
              "3        0      1         0         3        2\n",
              "4        0      1         0         2        1\n",
              "..     ...    ...       ...       ...      ...\n",
              "541      1      2         0         3        4\n",
              "542      1      2         0         3        4\n",
              "543      1      2         0         3        4\n",
              "544      1      2         0         3        2\n",
              "545      1      2         0         3        2\n",
              "\n",
              "[546 rows x 5 columns]"
            ]
          },
          "metadata": {
            "tags": []
          },
          "execution_count": 12
        }
      ]
    },
    {
      "cell_type": "code",
      "metadata": {
        "id": "ni1oSm0YKKRG",
        "colab_type": "code",
        "outputId": "d683c4f6-f0ed-4da8-d363-66c28165f93b",
        "colab": {
          "base_uri": "https://localhost:8080/",
          "height": 410
        }
      },
      "source": [
        "# this is row sample \n",
        "# data.sample(frac=0.80)\n",
        "\n",
        "# the frac is also randomly seleted - Fraction will decide rows \n",
        "#randomly you have picked \"stories\tdriveway\trecroom\"\n",
        "# data.sample(frac=0.80)[[\"stories\",\"driveway\",\"recroom\"]] # this is an example of random BAG\n",
        "number of colum \n",
        "number of rows \n",
        "data.sample(5, axis=1).sample(frac=0.8)"
      ],
      "execution_count": 0,
      "outputs": [
        {
          "output_type": "execute_result",
          "data": {
            "text/html": [
              "<div>\n",
              "<style scoped>\n",
              "    .dataframe tbody tr th:only-of-type {\n",
              "        vertical-align: middle;\n",
              "    }\n",
              "\n",
              "    .dataframe tbody tr th {\n",
              "        vertical-align: top;\n",
              "    }\n",
              "\n",
              "    .dataframe thead th {\n",
              "        text-align: right;\n",
              "    }\n",
              "</style>\n",
              "<table border=\"1\" class=\"dataframe\">\n",
              "  <thead>\n",
              "    <tr style=\"text-align: right;\">\n",
              "      <th></th>\n",
              "      <th>bathrms</th>\n",
              "      <th>prefarea</th>\n",
              "      <th>price</th>\n",
              "      <th>gashw</th>\n",
              "      <th>airco</th>\n",
              "    </tr>\n",
              "  </thead>\n",
              "  <tbody>\n",
              "    <tr>\n",
              "      <th>147</th>\n",
              "      <td>2</td>\n",
              "      <td>0</td>\n",
              "      <td>1</td>\n",
              "      <td>1</td>\n",
              "      <td>0</td>\n",
              "    </tr>\n",
              "    <tr>\n",
              "      <th>441</th>\n",
              "      <td>1</td>\n",
              "      <td>1</td>\n",
              "      <td>1</td>\n",
              "      <td>0</td>\n",
              "      <td>0</td>\n",
              "    </tr>\n",
              "    <tr>\n",
              "      <th>37</th>\n",
              "      <td>1</td>\n",
              "      <td>0</td>\n",
              "      <td>1</td>\n",
              "      <td>0</td>\n",
              "      <td>1</td>\n",
              "    </tr>\n",
              "    <tr>\n",
              "      <th>9</th>\n",
              "      <td>2</td>\n",
              "      <td>0</td>\n",
              "      <td>2</td>\n",
              "      <td>0</td>\n",
              "      <td>1</td>\n",
              "    </tr>\n",
              "    <tr>\n",
              "      <th>391</th>\n",
              "      <td>2</td>\n",
              "      <td>1</td>\n",
              "      <td>2</td>\n",
              "      <td>0</td>\n",
              "      <td>1</td>\n",
              "    </tr>\n",
              "    <tr>\n",
              "      <th>...</th>\n",
              "      <td>...</td>\n",
              "      <td>...</td>\n",
              "      <td>...</td>\n",
              "      <td>...</td>\n",
              "      <td>...</td>\n",
              "    </tr>\n",
              "    <tr>\n",
              "      <th>73</th>\n",
              "      <td>1</td>\n",
              "      <td>0</td>\n",
              "      <td>0</td>\n",
              "      <td>0</td>\n",
              "      <td>0</td>\n",
              "    </tr>\n",
              "    <tr>\n",
              "      <th>258</th>\n",
              "      <td>1</td>\n",
              "      <td>0</td>\n",
              "      <td>0</td>\n",
              "      <td>0</td>\n",
              "      <td>0</td>\n",
              "    </tr>\n",
              "    <tr>\n",
              "      <th>303</th>\n",
              "      <td>1</td>\n",
              "      <td>0</td>\n",
              "      <td>1</td>\n",
              "      <td>0</td>\n",
              "      <td>0</td>\n",
              "    </tr>\n",
              "    <tr>\n",
              "      <th>415</th>\n",
              "      <td>1</td>\n",
              "      <td>1</td>\n",
              "      <td>2</td>\n",
              "      <td>0</td>\n",
              "      <td>1</td>\n",
              "    </tr>\n",
              "    <tr>\n",
              "      <th>153</th>\n",
              "      <td>1</td>\n",
              "      <td>0</td>\n",
              "      <td>0</td>\n",
              "      <td>0</td>\n",
              "      <td>0</td>\n",
              "    </tr>\n",
              "  </tbody>\n",
              "</table>\n",
              "<p>437 rows × 5 columns</p>\n",
              "</div>"
            ],
            "text/plain": [
              "     bathrms  prefarea  price  gashw  airco\n",
              "147        2         0      1      1      0\n",
              "441        1         1      1      0      0\n",
              "37         1         0      1      0      1\n",
              "9          2         0      2      0      1\n",
              "391        2         1      2      0      1\n",
              "..       ...       ...    ...    ...    ...\n",
              "73         1         0      0      0      0\n",
              "258        1         0      0      0      0\n",
              "303        1         0      1      0      0\n",
              "415        1         1      2      0      1\n",
              "153        1         0      0      0      0\n",
              "\n",
              "[437 rows x 5 columns]"
            ]
          },
          "metadata": {
            "tags": []
          },
          "execution_count": 16
        }
      ]
    },
    {
      "cell_type": "markdown",
      "metadata": {
        "id": "h6L9blg_F-2B",
        "colab_type": "text"
      },
      "source": [
        "Here you see the price as 0,1,2 because in preprocessing step it is discretized.\n",
        "\n",
        "Using the following code line.\n"
      ]
    },
    {
      "cell_type": "code",
      "metadata": {
        "id": "uCi6TgUTNiha",
        "colab_type": "code",
        "colab": {}
      },
      "source": [
        "#df['price'] = pd.qcut(df['price'], 3, labels=['0', '1', '2']).cat.codes"
      ],
      "execution_count": 0,
      "outputs": []
    },
    {
      "cell_type": "markdown",
      "metadata": {
        "id": "M_QI5y_IQQxF",
        "colab_type": "text"
      },
      "source": [
        "**qcut**: Quantile-based discretization function. Discretize variable into equal-sized buckets based on rank or based on sample quantiles. \n",
        "\n",
        "For example, 1000 values for 10 quantiles would produce a Categorical object indicating\n",
        "quantile membership for each data point."
      ]
    },
    {
      "cell_type": "markdown",
      "metadata": {
        "id": "p2vzH0RaNmQV",
        "colab_type": "text"
      },
      "source": [
        "__Note__: It's a processing step to show how we reached here."
      ]
    },
    {
      "cell_type": "markdown",
      "metadata": {
        "id": "h61RWfj_DvNR",
        "colab_type": "text"
      },
      "source": [
        "### Data Description\n",
        "\n"
      ]
    },
    {
      "cell_type": "markdown",
      "metadata": {
        "id": "yxWaqkgFD7XH",
        "colab_type": "text"
      },
      "source": [
        "|Column Name      | Description|\n",
        "|-----------------:|------------:|\n",
        "|**price**\t|Sale price in U. S. dollars (numeric)|\n",
        "|**lotsize**|\tLot size in square feet (numeric) |\n",
        "|**bedrooms**|\tNumber of bedrooms (numeric)|\n",
        "|**bathrms**|\tNumber of full bathrooms (numeric)|\n",
        "|**stories**|\tNumber of stories, excluding basement (numeric)|\n",
        "|**driveway**|\tWhether the house has a driveway—yes(1) or no(0) (categorical)|\n",
        "|**recroom**|\tWhether the house has a recreation room—yes or no (categorical)|\n",
        "|**fullbase**|\tWhether the house has a full finished basement—yes(1) or no(0) (categorical)|\n",
        "|**gashw**|\tWhether the house uses gas to heat water—yes(1) or no(0) (categorical)|\n",
        "|**airco**|\tWhether the house has central air conditioning—yes(1) or no(0) (categorical)|\n",
        "|**garagepl**|\tNumber of garage places (numeric)|\n",
        "|**prefarea**|\tWhether the house is in a preferred neighborhood—yes(1) or no(0) (categorical)|"
      ]
    },
    {
      "cell_type": "markdown",
      "metadata": {
        "colab_type": "text",
        "id": "Ec6-zVX5QYDE"
      },
      "source": [
        "<a id=\"section5\"></a>\n",
        "## 5. Exploratory Data Analysis"
      ]
    },
    {
      "cell_type": "markdown",
      "metadata": {
        "colab_type": "text",
        "id": "KNkRXXvCQYDE"
      },
      "source": [
        "### Correlation Heatmap"
      ]
    },
    {
      "cell_type": "code",
      "metadata": {
        "colab_type": "code",
        "id": "DBaerFoNGR2q",
        "outputId": "b2268d50-9c39-42e4-95a3-8609cba4ac9c",
        "colab": {
          "base_uri": "https://localhost:8080/",
          "height": 705
        }
      },
      "source": [
        "colormap = plt.cm.RdBu\n",
        "plt.figure(figsize=(14,12))\n",
        "plt.title('Pearson Corr.', y=1.05, size=12)\n",
        "sns.heatmap(data.astype(float).corr(),linewidths=0.1, vmax=1.0, \n",
        "            square=True, cmap=colormap, linecolor='white', annot=True)"
      ],
      "execution_count": 0,
      "outputs": [
        {
          "output_type": "execute_result",
          "data": {
            "text/plain": [
              "<matplotlib.axes._subplots.AxesSubplot at 0x7f892ab474a8>"
            ]
          },
          "metadata": {
            "tags": []
          },
          "execution_count": 4
        },
        {
          "output_type": "display_data",
          "data": {
            "image/png": "[encoded data removed]",
            "text/plain": [
              "<Figure size 1008x864 with 2 Axes>"
            ]
          },
          "metadata": {
            "tags": []
          }
        }
      ]
    },
    {
      "cell_type": "markdown",
      "metadata": {
        "colab_type": "text",
        "id": "Db-5LRPVQYDI"
      },
      "source": [
        "### Splitting the data"
      ]
    },
    {
      "cell_type": "code",
      "metadata": {
        "colab_type": "code",
        "id": "1tAsHkhvGR2v",
        "colab": {}
      },
      "source": [
        "y = data['price'] \n",
        "X = data.drop('price', 1)"
      ],
      "execution_count": 0,
      "outputs": []
    },
    {
      "cell_type": "markdown",
      "metadata": {
        "colab_type": "text",
        "id": "Dy6wsIC2QYDL"
      },
      "source": [
        "<a id=\"section6\"></a>\n",
        "## 6. Modelling and Prediction"
      ]
    },
    {
      "cell_type": "markdown",
      "metadata": {
        "colab_type": "text",
        "id": "5i-zHY6nQYDM"
      },
      "source": [
        "<a id=\"section601\"></a>\n",
        "## 6.1 Getting some classifiers to evaluate"
      ]
    },
    {
      "cell_type": "code",
      "metadata": {
        "colab_type": "code",
        "id": "pkUAsF7eQalM",
        "outputId": "d9400de4-58d0-4082-de2c-6d549ed18091",
        "colab": {
          "base_uri": "https://localhost:8080/",
          "height": 476
        }
      },
      "source": [
        "from sklearn.ensemble import RandomForestClassifier\n",
        "from sklearn.ensemble import VotingClassifier\n",
        "from sklearn.linear_model import LogisticRegression\n",
        "from sklearn.svm import SVC\n",
        "\n",
        "log_clf = LogisticRegression()\n",
        "rnd_clf = RandomForestClassifier()\n",
        "svm_clf = SVC()\n",
        "# here we are using hard voting\n",
        "voting_clf = VotingClassifier(\n",
        "    estimators=[('lr', log_clf), ('rf', rnd_clf), ('svc', svm_clf)],\n",
        "    voting='hard')\n",
        "voting_clf.fit(X_train, y_train)"
      ],
      "execution_count": 0,
      "outputs": [
        {
          "output_type": "execute_result",
          "data": {
            "text/plain": [
              "VotingClassifier(estimators=[('lr',\n",
              "                              LogisticRegression(C=1.0, class_weight=None,\n",
              "                                                 dual=False, fit_intercept=True,\n",
              "                                                 intercept_scaling=1,\n",
              "                                                 l1_ratio=None, max_iter=100,\n",
              "                                                 multi_class='warn',\n",
              "                                                 n_jobs=None, penalty='l2',\n",
              "                                                 random_state=None,\n",
              "                                                 solver='warn', tol=0.0001,\n",
              "                                                 verbose=0, warm_start=False)),\n",
              "                             ('rf',\n",
              "                              RandomForestClassifier(bootstrap=True,\n",
              "                                                     class_weight=None,\n",
              "                                                     criterion='gini',...\n",
              "                                                     oob_score=False,\n",
              "                                                     random_state=None,\n",
              "                                                     verbose=0,\n",
              "                                                     warm_start=False)),\n",
              "                             ('svc',\n",
              "                              SVC(C=1.0, cache_size=200, class_weight=None,\n",
              "                                  coef0=0.0, decision_function_shape='ovr',\n",
              "                                  degree=3, gamma='auto_deprecated',\n",
              "                                  kernel='rbf', max_iter=-1, probability=False,\n",
              "                                  random_state=None, shrinking=True, tol=0.001,\n",
              "                                  verbose=False))],\n",
              "                 flatten_transform=True, n_jobs=None, voting='hard',\n",
              "                 weights=None)"
            ]
          },
          "metadata": {
            "tags": []
          },
          "execution_count": 15
        }
      ]
    },
    {
      "cell_type": "markdown",
      "metadata": {
        "id": "rfuvkqpnmuUg",
        "colab_type": "text"
      },
      "source": [
        "Learn More about [Voting Classifier](https://scikit-learn.org/stable/modules/generated/sklearn.ensemble.VotingClassifier.html)"
      ]
    },
    {
      "cell_type": "markdown",
      "metadata": {
        "colab_type": "text",
        "id": "TP-96m8nQ994"
      },
      "source": [
        "Split the data into train and test data."
      ]
    },
    {
      "cell_type": "code",
      "metadata": {
        "colab_type": "code",
        "id": "8P7S5NdeQ9aV",
        "colab": {}
      },
      "source": [
        "from sklearn.model_selection import train_test_split\n",
        "\n",
        "X_train,X_test,y_train,y_test=train_test_split(X,y,test_size=0.33, random_state=42)"
      ],
      "execution_count": 0,
      "outputs": []
    },
    {
      "cell_type": "markdown",
      "metadata": {
        "colab_type": "text",
        "id": "zuV-YpXXQhZF"
      },
      "source": [
        "Let’s look at each classifier’s accuracy on the test set:"
      ]
    },
    {
      "cell_type": "code",
      "metadata": {
        "colab_type": "code",
        "id": "tqEyhpPfQicj",
        "outputId": "07be5e2e-182c-4b12-aec6-74779fea48aa",
        "colab": {
          "base_uri": "https://localhost:8080/",
          "height": 85
        }
      },
      "source": [
        "from sklearn.metrics import accuracy_score\n",
        "for clf in (log_clf, rnd_clf, svm_clf, voting_clf):\n",
        "  clf.fit(X_train, y_train)\n",
        "  y_pred = clf.predict(X_test)\n",
        "  \n",
        "  print(clf.__class__.__name__, accuracy_score(y_test, y_pred))\n"
      ],
      "execution_count": 0,
      "outputs": [
        {
          "output_type": "stream",
          "text": [
            "LogisticRegression 0.585635359116022\n",
            "RandomForestClassifier 0.6408839779005525\n",
            "SVC 0.5138121546961326\n",
            "VotingClassifier 0.6519337016574586\n"
          ],
          "name": "stdout"
        }
      ]
    },
    {
      "cell_type": "markdown",
      "metadata": {
        "colab_type": "text",
        "id": "q79cIaGSR5MK"
      },
      "source": [
        "\n",
        "There you have it! The __voting classifier__ slightly outperforms all the individual classifiers."
      ]
    },
    {
      "cell_type": "markdown",
      "metadata": {
        "colab_type": "text",
        "id": "CzFGUu8QV7BK"
      },
      "source": [
        "-  This majority-vote classifier is called a hard voting classifier "
      ]
    },
    {
      "cell_type": "markdown",
      "metadata": {
        "colab_type": "text",
        "id": "1z9oh8SeVReL"
      },
      "source": [
        "<center><img src=\"https://learning.oreilly.com/library/view/hands-on-machine-learning/9781492032632/assets/mls2_0702.png\" height=400 width=600/></center>"
      ]
    },
    {
      "cell_type": "markdown",
      "metadata": {
        "colab_type": "text",
        "id": "mbMyJDMDWG58"
      },
      "source": [
        "<a id=\"section602\"></a>\n",
        "## 6.2 When to and how to use soft voting"
      ]
    },
    {
      "cell_type": "markdown",
      "metadata": {
        "colab_type": "text",
        "id": "ElTY53gHWPyO"
      },
      "source": [
        "\n",
        "If all classifiers are able to estimate class probabilities (i.e., they all have a __predict_proba()__ method), then you can tell __Scikit-Learn__ to predict the __class__ with the __highest class probability__, averaged over all the __individual classifiers__. This is called soft voting."
      ]
    },
    {
      "cell_type": "markdown",
      "metadata": {
        "colab_type": "text",
        "id": "lM5LjIfUQYDi"
      },
      "source": [
        "### Types of Voting Classifier\n",
        "\n",
        "<center><img src=\"https://i.ytimg.com/vi/BlrcCpypfhU/maxresdefault.jpg\" height=300 width=300/></center>\n",
        "<br>\n",
        "<center>__ Hard vs Soft voting __</center>"
      ]
    },
    {
      "cell_type": "markdown",
      "metadata": {
        "colab_type": "text",
        "id": "ob8_cQFiQYDj"
      },
      "source": [
        "- __Hard voting__: is where a model is selected from an ensemble to make the final prediction by a simple __majority vote__ for accuracy.\n",
        "\n",
        "<br>\n",
        "\n",
        "\n",
        "- __Soft Voting__: can only be done when all your classifiers can __calculate probabilities__ for the outcomes. __Soft voting__ arrives at the best result by averaging out the __probabilities__ calculated by individual algorithms."
      ]
    },
    {
      "cell_type": "markdown",
      "metadata": {
        "colab_type": "text",
        "id": "Qd3Tu6sxQYDj"
      },
      "source": [
        "<a id=\"section603\"></a>\n",
        "## 6.3 Create Bagging Classifiers"
      ]
    },
    {
      "cell_type": "markdown",
      "metadata": {
        "colab_type": "text",
        "id": "GUP9fhGuZsjd"
      },
      "source": [
        "Another approach is to use the same training algorithm for every predictor and train them on __different random subsets__ of the training set. When sampling is performed with __replacement__, this method is called __bagging__."
      ]
    },
    {
      "cell_type": "markdown",
      "metadata": {
        "colab_type": "text",
        "id": "4w0ERZMNZ7JB"
      },
      "source": [
        "<center><img src=\"https://learning.oreilly.com/library/view/hands-on-machine-learning/9781492032632/assets/mls2_0704.png\" height=350 width=550/>"
      ]
    },
    {
      "cell_type": "code",
      "metadata": {
        "colab_type": "code",
        "id": "BaFsrepxaRZG",
        "outputId": "061749eb-feef-407b-9dbc-62c5886cfe6c",
        "colab": {
          "base_uri": "https://localhost:8080/",
          "height": 51
        }
      },
      "source": [
        "from sklearn.ensemble import BaggingClassifier\n",
        "from sklearn.tree import DecisionTreeClassifier\n",
        "\n",
        "bag_clf = BaggingClassifier(\n",
        "    DecisionTreeClassifier(), n_estimators=500,\n",
        "    max_samples=100, bootstrap=True, n_jobs=-1)\n",
        "bag_clf.fit(X_train, y_train)\n",
        "y_pred = bag_clf.predict(X_test)\n",
        "\n",
        "# decision tree classifier\n",
        "\n",
        "dclf=DecisionTreeClassifier()\n",
        "dclf.fit(X_train,y_train)\n",
        "y_pred1=dclf.predict(X_test)\n",
        "\n",
        "\n",
        "\n",
        "\n",
        "print(\"Accuracy of Decision Tree classifier is {0}\".format(accuracy_score(y_test, y_pred1)))\n",
        "print(\"Accuracy of Bagging classifier is {0}\".format(accuracy_score(y_test, y_pred)))"
      ],
      "execution_count": 0,
      "outputs": [
        {
          "output_type": "stream",
          "text": [
            "Accuracy of Decision Tree classifier is 0.6022099447513812\n",
            "Accuracy of Bagging classifier is 0.6464088397790055\n"
          ],
          "name": "stdout"
        }
      ]
    },
    {
      "cell_type": "markdown",
      "metadata": {
        "colab_type": "text",
        "id": "7gw3C0yibeZA"
      },
      "source": [
        "__Note__: See here our bagging classifier outperforms the decision tree classifiers."
      ]
    },
    {
      "cell_type": "markdown",
      "metadata": {
        "colab_type": "text",
        "id": "ZGpWbinjcnJX"
      },
      "source": [
        "<a id=\"section604\"></a>\n",
        "## 6.4 Create Boosting Classifiers"
      ]
    },
    {
      "cell_type": "code",
      "metadata": {
        "colab_type": "code",
        "id": "--fTLBPPl0wO",
        "colab": {}
      },
      "source": [
        "from sklearn.ensemble import AdaBoostClassifier\n",
        "from sklearn.tree import DecisionTreeClassifier\n"
      ],
      "execution_count": 0,
      "outputs": []
    },
    {
      "cell_type": "markdown",
      "metadata": {
        "id": "jJPc603wm6fH",
        "colab_type": "text"
      },
      "source": [
        "Learn more about [AdaBoostClassifier](https://scikit-learn.org/stable/modules/generated/sklearn.ensemble.AdaBoostClassifier.html)"
      ]
    },
    {
      "cell_type": "code",
      "metadata": {
        "colab_type": "code",
        "id": "3maf8Zexl1_Z",
        "outputId": "85c2cd04-099d-42b3-9ff5-0829489d0e82",
        "colab": {
          "base_uri": "https://localhost:8080/",
          "height": 34
        }
      },
      "source": [
        "reg_ada = AdaBoostClassifier(DecisionTreeClassifier(max_depth=1))\n",
        "scores_ada = cross_val_score(reg_ada, X, y, cv=6)\n",
        "scores_ada.mean()"
      ],
      "execution_count": 0,
      "outputs": [
        {
          "output_type": "execute_result",
          "data": {
            "text/plain": [
              "0.5970695970695972"
            ]
          },
          "metadata": {
            "tags": []
          },
          "execution_count": 28
        }
      ]
    },
    {
      "cell_type": "code",
      "metadata": {
        "colab_type": "code",
        "id": "Xzz5gX98l11E",
        "outputId": "607ee136-60cc-4b81-802e-e135ac7e4196",
        "colab": {
          "base_uri": "https://localhost:8080/",
          "height": 34
        }
      },
      "source": [
        "score = []\n",
        "for depth in [1,2,10] : \n",
        "    reg_ada = AdaBoostClassifier(DecisionTreeClassifier(max_depth=depth))\n",
        "    scores_ada = cross_val_score(reg_ada, X, y, cv=6)\n",
        "    score.append(scores_ada.mean())\n",
        "\n",
        "\n",
        "print(score)"
      ],
      "execution_count": 0,
      "outputs": [
        {
          "output_type": "stream",
          "text": [
            "[0.5970695970695972, 0.6062271062271063, 0.6282051282051283]\n"
          ],
          "name": "stdout"
        }
      ]
    },
    {
      "cell_type": "markdown",
      "metadata": {
        "colab_type": "text",
        "id": "CAAtU3WymY8Q"
      },
      "source": [
        "And the maximal score is reached for a depth of 10 in this simple example, with an accuracy of 62.8%"
      ]
    },
    {
      "cell_type": "markdown",
      "metadata": {
        "id": "S56sIhtvDvOC",
        "colab_type": "text"
      },
      "source": [
        "<a id=\"section7\"></a>\n",
        "## 7. Model Comparison"
      ]
    },
    {
      "cell_type": "markdown",
      "metadata": {
        "id": "q_Bd2eAYDvOD",
        "colab_type": "text"
      },
      "source": [
        "| Algorithms                                                                                     | Accuracy Score                                                                               |\n",
        "| ------------------------------- |:-----------------------------------------------------------------------------------------:| \n",
        "| __Logistic Regression__ | __58.5%__ |\n",
        "| __Random Forest__ | __64.0%__ |\n",
        "| __Decision Tree Classifier__| __60.2%__| \n",
        "| __Bagging Classifier__ | __64.6%__ |\n",
        "| __Boosting Classifier__ | __62.8%__ |\n",
        "| __SVC__| __51.3%__| \n",
        "| __Voting Classifier__| __65.1%__| "
      ]
    },
    {
      "cell_type": "markdown",
      "metadata": {
        "colab_type": "text",
        "id": "ODFvXKKQSujb"
      },
      "source": [
        "<a id=\"section8\"></a>\n",
        "## 8. Conclusion"
      ]
    },
    {
      "cell_type": "markdown",
      "metadata": {
        "colab_type": "text",
        "id": "1z7o3EMzS9MQ"
      },
      "source": [
        "- Here we see that each of Ensemble learning classifier is better compared to the individual classifiers. "
      ]
    }
  ]
}