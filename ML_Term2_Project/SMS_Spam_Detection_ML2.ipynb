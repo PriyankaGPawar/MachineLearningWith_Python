{
 "cells": [
  {
   "cell_type": "markdown",
   "metadata": {},
   "source": [
    "## Table of Content\n",
    "1. [Introduction to Spam Filtering](#section1)<br>\n",
    "2. [Import Libraries](#section2)<br>\n",
    "3. [Import Data](#section3)<br>\n",
    "4. [Data Preprocessing](#section4)<br>\n",
    "\t- 4.1 [Check Null Columns](#section401)<br>\n",
    "    - 4.2 [Drop Unnecessaary Columns](#section402)<br>\n",
    "    - 4.3 [Text Column Processing](#section403)<br>\n",
    "    - 4.4 [Convert words to vector](#section404)<br>\n",
    "    \n",
    "5. [Import Models & Metrics](#section5)<br>\n",
    "6. [Train test split](#section6)<br>\n",
    "7. [Applying Models](#section7)<br>\n",
    "\t- 7.1 [Expected Outcome from Model](#section701)<br>\n",
    "\t- 7.2 [Multinomial Naive Bayes](#section702)<br>\n",
    "\t- 7.3 [Logistic Regression](#section703)<br>\n",
    "\t- 7.4 [Decision Tree Classifier](#section704)<br>\n",
    "\t- 7.5 [Random Forest Classifier](#section705)<br>\n",
    "\t- 7.6 [SVM Classifier](#section706)<br>\n",
    "\t- 7.7 [K Nearest Neighbour Classifier](#section707)<br>\n",
    "8. [Conclusion](#section8)<br>"
   ]
  },
  {
   "cell_type": "markdown",
   "metadata": {},
   "source": [
    "<a id=section1></a> \n",
    "## 1.Introduction to Spam Filtering"
   ]
  },
  {
   "cell_type": "markdown",
   "metadata": {},
   "source": [
    "The mobile phone market has experienced a substantial growth over recent years.\n",
    "As the utilization of **smartphones have become a commonplace, & hence Short Message Service (SMS) has grown into a multi-billion dollars commercial industry to target customers.** \n",
    "SMS is the most widely used data application. As the popularity of the platform increased, users\n",
    "have seen a surge in the number of unsolicited commercial advertisements sent to mobile phones using text messaging.\n",
    "\n",
    "Hence there seemed a need to **classifying the messages into Spam or Ham category**. \n",
    "\n",
    "In this notebook, I have tried to apply the different ML text classification techniques to the SMS data file contraining over 5500 messages.\n"
   ]
  },
  {
   "cell_type": "markdown",
   "metadata": {},
   "source": [
    "<img src ='https://raw.githubusercontent.com/PriyankaGPawar/MachineLearningWith_Python/master/ML_Term2_Project/sms_image2.jpg' width=\"650\" height=\"250\">"
   ]
  },
  {
   "cell_type": "markdown",
   "metadata": {
    "colab_type": "text",
    "id": "1WoSkr188Ma0"
   },
   "source": [
    "<a id=section2></a> \n",
    "## 2.Import libraries"
   ]
  },
  {
   "cell_type": "code",
   "execution_count": 1,
   "metadata": {
    "colab": {
     "base_uri": "https://localhost:8080/",
     "height": 71
    },
    "colab_type": "code",
    "id": "2u4jZcfl8VxM",
    "outputId": "1e579cc7-4123-4752-be3a-7879a3386a92"
   },
   "outputs": [
    {
     "name": "stderr",
     "output_type": "stream",
     "text": [
      "/usr/local/lib/python3.6/dist-packages/statsmodels/tools/_testing.py:19: FutureWarning: pandas.util.testing is deprecated. Use the functions in the public API at pandas.testing instead.\n",
      "  import pandas.util.testing as tm\n"
     ]
    }
   ],
   "source": [
    "import numpy as np\n",
    "import pandas as pd\n",
    "import matplotlib as mpl\n",
    "import matplotlib.pyplot as plt\n",
    "import seaborn as sns\n",
    "import string\n",
    "from sklearn.feature_extraction.text import TfidfVectorizer\n",
    "from sklearn.feature_extraction.text import CountVectorizer\n",
    "\n",
    "from sklearn.model_selection import train_test_split\n",
    "from nltk.corpus import stopwords\n",
    "%matplotlib inline\n",
    "\n",
    "import warnings\n",
    "warnings.filterwarnings(\"ignore\")"
   ]
  },
  {
   "cell_type": "markdown",
   "metadata": {
    "colab_type": "text",
    "id": "COt4NKBh8ZDM"
   },
   "source": [
    "<a id=section3></a>\n",
    "## 3.Import Data"
   ]
  },
  {
   "cell_type": "markdown",
   "metadata": {},
   "source": [
    "<img src ='https://raw.githubusercontent.com/PriyankaGPawar/MachineLearningWith_Python/master/ML_Term2_Project/sms_image1.jpeg' width= \"650\" height=\"250\">"
   ]
  },
  {
   "cell_type": "code",
   "execution_count": 2,
   "metadata": {
    "colab": {},
    "colab_type": "code",
    "id": "ufkhTJTB8bvw"
   },
   "outputs": [],
   "source": [
    "sms= pd.read_csv('https://raw.githubusercontent.com/insaid2018/Term-3/master/Projects/spam.csv', encoding='latin-1')"
   ]
  },
  {
   "cell_type": "code",
   "execution_count": 3,
   "metadata": {
    "colab": {
     "base_uri": "https://localhost:8080/",
     "height": 204
    },
    "colab_type": "code",
    "id": "5cvjo8xD_MQC",
    "outputId": "e42706c7-e9fa-453d-ae51-3b2b6416e343"
   },
   "outputs": [
    {
     "data": {
      "text/html": [
       "<div>\n",
       "<style scoped>\n",
       "    .dataframe tbody tr th:only-of-type {\n",
       "        vertical-align: middle;\n",
       "    }\n",
       "\n",
       "    .dataframe tbody tr th {\n",
       "        vertical-align: top;\n",
       "    }\n",
       "\n",
       "    .dataframe thead th {\n",
       "        text-align: right;\n",
       "    }\n",
       "</style>\n",
       "<table border=\"1\" class=\"dataframe\">\n",
       "  <thead>\n",
       "    <tr style=\"text-align: right;\">\n",
       "      <th></th>\n",
       "      <th>v1</th>\n",
       "      <th>v2</th>\n",
       "      <th>Unnamed: 2</th>\n",
       "      <th>Unnamed: 3</th>\n",
       "      <th>Unnamed: 4</th>\n",
       "    </tr>\n",
       "  </thead>\n",
       "  <tbody>\n",
       "    <tr>\n",
       "      <th>0</th>\n",
       "      <td>ham</td>\n",
       "      <td>Go until jurong point, crazy.. Available only ...</td>\n",
       "      <td>NaN</td>\n",
       "      <td>NaN</td>\n",
       "      <td>NaN</td>\n",
       "    </tr>\n",
       "    <tr>\n",
       "      <th>1</th>\n",
       "      <td>ham</td>\n",
       "      <td>Ok lar... Joking wif u oni...</td>\n",
       "      <td>NaN</td>\n",
       "      <td>NaN</td>\n",
       "      <td>NaN</td>\n",
       "    </tr>\n",
       "    <tr>\n",
       "      <th>2</th>\n",
       "      <td>spam</td>\n",
       "      <td>Free entry in 2 a wkly comp to win FA Cup fina...</td>\n",
       "      <td>NaN</td>\n",
       "      <td>NaN</td>\n",
       "      <td>NaN</td>\n",
       "    </tr>\n",
       "    <tr>\n",
       "      <th>3</th>\n",
       "      <td>ham</td>\n",
       "      <td>U dun say so early hor... U c already then say...</td>\n",
       "      <td>NaN</td>\n",
       "      <td>NaN</td>\n",
       "      <td>NaN</td>\n",
       "    </tr>\n",
       "    <tr>\n",
       "      <th>4</th>\n",
       "      <td>ham</td>\n",
       "      <td>Nah I don't think he goes to usf, he lives aro...</td>\n",
       "      <td>NaN</td>\n",
       "      <td>NaN</td>\n",
       "      <td>NaN</td>\n",
       "    </tr>\n",
       "  </tbody>\n",
       "</table>\n",
       "</div>"
      ],
      "text/plain": [
       "     v1  ... Unnamed: 4\n",
       "0   ham  ...        NaN\n",
       "1   ham  ...        NaN\n",
       "2  spam  ...        NaN\n",
       "3   ham  ...        NaN\n",
       "4   ham  ...        NaN\n",
       "\n",
       "[5 rows x 5 columns]"
      ]
     },
     "execution_count": 3,
     "metadata": {
      "tags": []
     },
     "output_type": "execute_result"
    }
   ],
   "source": [
    "sms.head()"
   ]
  },
  {
   "cell_type": "code",
   "execution_count": 4,
   "metadata": {
    "colab": {
     "base_uri": "https://localhost:8080/",
     "height": 34
    },
    "colab_type": "code",
    "id": "eqfjvEopaFKx",
    "outputId": "1a4622fb-a8c9-4cd4-c76d-111dccfb5025"
   },
   "outputs": [
    {
     "data": {
      "text/plain": [
       "(5572, 5)"
      ]
     },
     "execution_count": 4,
     "metadata": {
      "tags": []
     },
     "output_type": "execute_result"
    }
   ],
   "source": [
    "sms.shape"
   ]
  },
  {
   "cell_type": "markdown",
   "metadata": {},
   "source": [
    "<a id=section4></a> \n",
    "## 4.Data Preprocessing"
   ]
  },
  {
   "cell_type": "markdown",
   "metadata": {
    "colab_type": "text",
    "id": "lPB2yvDyb4Pd"
   },
   "source": [
    "<a id=section401></a>\n",
    "### 4.1 Check Null Columns"
   ]
  },
  {
   "cell_type": "code",
   "execution_count": 5,
   "metadata": {
    "colab": {
     "base_uri": "https://localhost:8080/",
     "height": 34
    },
    "colab_type": "code",
    "id": "tfXPrrpo_QXA",
    "outputId": "c17e07ce-ebe4-4847-a206-bd9dcbf0dfef"
   },
   "outputs": [
    {
     "data": {
      "text/plain": [
       "99.10265613783201"
      ]
     },
     "execution_count": 5,
     "metadata": {
      "tags": []
     },
     "output_type": "execute_result"
    }
   ],
   "source": [
    "sms['Unnamed: 2'].isnull().sum()/len(sms) *100"
   ]
  },
  {
   "cell_type": "code",
   "execution_count": 6,
   "metadata": {
    "colab": {
     "base_uri": "https://localhost:8080/",
     "height": 34
    },
    "colab_type": "code",
    "id": "5UiLKPp-aKnc",
    "outputId": "2faca80f-c7d9-4ed5-b58e-24475eb1f77f"
   },
   "outputs": [
    {
     "data": {
      "text/plain": [
       "99.89231873653985"
      ]
     },
     "execution_count": 6,
     "metadata": {
      "tags": []
     },
     "output_type": "execute_result"
    }
   ],
   "source": [
    "sms['Unnamed: 3'].isnull().sum()/len(sms) *100\n",
    "sms['Unnamed: 4'].isnull().sum()/len(sms) *100"
   ]
  },
  {
   "cell_type": "markdown",
   "metadata": {
    "colab_type": "text",
    "id": "5_TuFUuybVSb"
   },
   "source": [
    "<a id=section402></a>\n",
    "### 4.2 Drop unnecessary Columns"
   ]
  },
  {
   "cell_type": "code",
   "execution_count": 7,
   "metadata": {
    "colab": {},
    "colab_type": "code",
    "id": "pGITl0ZpaYHq"
   },
   "outputs": [],
   "source": [
    "# let's drop columns beyond 'Unnamed: 2' including itself\n",
    "\n",
    "sms.drop(columns=['Unnamed: 2','Unnamed: 3','Unnamed: 4'], inplace= True)"
   ]
  },
  {
   "cell_type": "code",
   "execution_count": 8,
   "metadata": {
    "colab": {
     "base_uri": "https://localhost:8080/",
     "height": 34
    },
    "colab_type": "code",
    "id": "4WbdWH2Savv5",
    "outputId": "34b4b3fa-ef7b-4c44-f932-2fcfe0d775c5"
   },
   "outputs": [
    {
     "data": {
      "text/plain": [
       "(5572, 2)"
      ]
     },
     "execution_count": 8,
     "metadata": {
      "tags": []
     },
     "output_type": "execute_result"
    }
   ],
   "source": [
    "sms.shape"
   ]
  },
  {
   "cell_type": "code",
   "execution_count": 9,
   "metadata": {
    "colab": {},
    "colab_type": "code",
    "id": "uA1IFRlVay-3"
   },
   "outputs": [],
   "source": [
    "sms = sms.rename(columns = {'v1':'label','v2':'message'})"
   ]
  },
  {
   "cell_type": "code",
   "execution_count": 10,
   "metadata": {
    "colab": {
     "base_uri": "https://localhost:8080/",
     "height": 170
    },
    "colab_type": "code",
    "id": "Bnua1ohFbCfs",
    "outputId": "80a14fc7-bfd2-430f-f134-d471d904a56e"
   },
   "outputs": [
    {
     "name": "stdout",
     "output_type": "stream",
     "text": [
      "<class 'pandas.core.frame.DataFrame'>\n",
      "RangeIndex: 5572 entries, 0 to 5571\n",
      "Data columns (total 2 columns):\n",
      " #   Column   Non-Null Count  Dtype \n",
      "---  ------   --------------  ----- \n",
      " 0   label    5572 non-null   object\n",
      " 1   message  5572 non-null   object\n",
      "dtypes: object(2)\n",
      "memory usage: 87.2+ KB\n"
     ]
    }
   ],
   "source": [
    "sms.info()"
   ]
  },
  {
   "cell_type": "code",
   "execution_count": 11,
   "metadata": {
    "colab": {
     "base_uri": "https://localhost:8080/",
     "height": 204
    },
    "colab_type": "code",
    "id": "HNjz28t2gTjJ",
    "outputId": "1d69a756-c08d-4963-fa83-94abcaa0c3a1"
   },
   "outputs": [
    {
     "data": {
      "text/html": [
       "<div>\n",
       "<style scoped>\n",
       "    .dataframe tbody tr th:only-of-type {\n",
       "        vertical-align: middle;\n",
       "    }\n",
       "\n",
       "    .dataframe tbody tr th {\n",
       "        vertical-align: top;\n",
       "    }\n",
       "\n",
       "    .dataframe thead th {\n",
       "        text-align: right;\n",
       "    }\n",
       "</style>\n",
       "<table border=\"1\" class=\"dataframe\">\n",
       "  <thead>\n",
       "    <tr style=\"text-align: right;\">\n",
       "      <th></th>\n",
       "      <th>label</th>\n",
       "      <th>message</th>\n",
       "      <th>length</th>\n",
       "    </tr>\n",
       "  </thead>\n",
       "  <tbody>\n",
       "    <tr>\n",
       "      <th>0</th>\n",
       "      <td>ham</td>\n",
       "      <td>Go until jurong point, crazy.. Available only ...</td>\n",
       "      <td>111</td>\n",
       "    </tr>\n",
       "    <tr>\n",
       "      <th>1</th>\n",
       "      <td>ham</td>\n",
       "      <td>Ok lar... Joking wif u oni...</td>\n",
       "      <td>29</td>\n",
       "    </tr>\n",
       "    <tr>\n",
       "      <th>2</th>\n",
       "      <td>spam</td>\n",
       "      <td>Free entry in 2 a wkly comp to win FA Cup fina...</td>\n",
       "      <td>155</td>\n",
       "    </tr>\n",
       "    <tr>\n",
       "      <th>3</th>\n",
       "      <td>ham</td>\n",
       "      <td>U dun say so early hor... U c already then say...</td>\n",
       "      <td>49</td>\n",
       "    </tr>\n",
       "    <tr>\n",
       "      <th>4</th>\n",
       "      <td>ham</td>\n",
       "      <td>Nah I don't think he goes to usf, he lives aro...</td>\n",
       "      <td>61</td>\n",
       "    </tr>\n",
       "  </tbody>\n",
       "</table>\n",
       "</div>"
      ],
      "text/plain": [
       "  label                                            message  length\n",
       "0   ham  Go until jurong point, crazy.. Available only ...     111\n",
       "1   ham                      Ok lar... Joking wif u oni...      29\n",
       "2  spam  Free entry in 2 a wkly comp to win FA Cup fina...     155\n",
       "3   ham  U dun say so early hor... U c already then say...      49\n",
       "4   ham  Nah I don't think he goes to usf, he lives aro...      61"
      ]
     },
     "execution_count": 11,
     "metadata": {
      "tags": []
     },
     "output_type": "execute_result"
    }
   ],
   "source": [
    "sms['length'] = sms['message'].apply(len)\n",
    "sms.head()"
   ]
  },
  {
   "cell_type": "code",
   "execution_count": 12,
   "metadata": {
    "colab": {
     "base_uri": "https://localhost:8080/",
     "height": 343
    },
    "colab_type": "code",
    "id": "YId7ww6jgVsH",
    "outputId": "a8881176-2a8b-4f12-e422-fb12819f91e6"
   },
   "outputs": [
    {
     "data": {
      "image/png": "[encoded data removed]",
      "text/plain": [
       "<Figure size 864x360 with 2 Axes>"
      ]
     },
     "metadata": {
      "needs_background": "light",
      "tags": []
     },
     "output_type": "display_data"
    }
   ],
   "source": [
    "sms.hist(column='length',by='label', bins=30,figsize=(12,5))\n",
    "mpl.rcParams['patch.force_edgecolor'] = True"
   ]
  },
  {
   "cell_type": "code",
   "execution_count": 13,
   "metadata": {
    "colab": {},
    "colab_type": "code",
    "id": "6Og0ggNuij6E"
   },
   "outputs": [],
   "source": [
    "# Observation : \n",
    "#       1. Length of the 'Spam' messages is more than 100 in general . So Longer the message, more is probability of being spam\n",
    "#       2. Majority of 'NON Spam' messages tend to be between 0 to 100 in terms of length. Very less messages go beyond 100. "
   ]
  },
  {
   "cell_type": "code",
   "execution_count": 14,
   "metadata": {
    "colab": {
     "base_uri": "https://localhost:8080/",
     "height": 204
    },
    "colab_type": "code",
    "id": "p_CduifYjdR1",
    "outputId": "4c08a5ef-5946-4cf2-c764-52d8289214ae"
   },
   "outputs": [
    {
     "data": {
      "text/html": [
       "<div>\n",
       "<style scoped>\n",
       "    .dataframe tbody tr th:only-of-type {\n",
       "        vertical-align: middle;\n",
       "    }\n",
       "\n",
       "    .dataframe tbody tr th {\n",
       "        vertical-align: top;\n",
       "    }\n",
       "\n",
       "    .dataframe thead th {\n",
       "        text-align: right;\n",
       "    }\n",
       "</style>\n",
       "<table border=\"1\" class=\"dataframe\">\n",
       "  <thead>\n",
       "    <tr style=\"text-align: right;\">\n",
       "      <th></th>\n",
       "      <th>label</th>\n",
       "      <th>message</th>\n",
       "      <th>length</th>\n",
       "    </tr>\n",
       "  </thead>\n",
       "  <tbody>\n",
       "    <tr>\n",
       "      <th>0</th>\n",
       "      <td>ham</td>\n",
       "      <td>Go until jurong point, crazy.. Available only ...</td>\n",
       "      <td>111</td>\n",
       "    </tr>\n",
       "    <tr>\n",
       "      <th>1</th>\n",
       "      <td>ham</td>\n",
       "      <td>Ok lar... Joking wif u oni...</td>\n",
       "      <td>29</td>\n",
       "    </tr>\n",
       "    <tr>\n",
       "      <th>2</th>\n",
       "      <td>spam</td>\n",
       "      <td>Free entry in 2 a wkly comp to win FA Cup fina...</td>\n",
       "      <td>155</td>\n",
       "    </tr>\n",
       "    <tr>\n",
       "      <th>3</th>\n",
       "      <td>ham</td>\n",
       "      <td>U dun say so early hor... U c already then say...</td>\n",
       "      <td>49</td>\n",
       "    </tr>\n",
       "    <tr>\n",
       "      <th>4</th>\n",
       "      <td>ham</td>\n",
       "      <td>Nah I don't think he goes to usf, he lives aro...</td>\n",
       "      <td>61</td>\n",
       "    </tr>\n",
       "  </tbody>\n",
       "</table>\n",
       "</div>"
      ],
      "text/plain": [
       "  label                                            message  length\n",
       "0   ham  Go until jurong point, crazy.. Available only ...     111\n",
       "1   ham                      Ok lar... Joking wif u oni...      29\n",
       "2  spam  Free entry in 2 a wkly comp to win FA Cup fina...     155\n",
       "3   ham  U dun say so early hor... U c already then say...      49\n",
       "4   ham  Nah I don't think he goes to usf, he lives aro...      61"
      ]
     },
     "execution_count": 14,
     "metadata": {
      "tags": []
     },
     "output_type": "execute_result"
    }
   ],
   "source": [
    "sms.head()"
   ]
  },
  {
   "cell_type": "code",
   "execution_count": 15,
   "metadata": {
    "colab": {},
    "colab_type": "code",
    "id": "c9GaUGX0Ki-A"
   },
   "outputs": [],
   "source": [
    "text_sms = sms['message'].copy()"
   ]
  },
  {
   "cell_type": "code",
   "execution_count": 16,
   "metadata": {
    "colab": {
     "base_uri": "https://localhost:8080/",
     "height": 34
    },
    "colab_type": "code",
    "id": "YsMmK9BOKnxT",
    "outputId": "83af31ea-86c3-441e-dbf7-cee0805b35f2"
   },
   "outputs": [
    {
     "data": {
      "text/plain": [
       "pandas.core.series.Series"
      ]
     },
     "execution_count": 16,
     "metadata": {
      "tags": []
     },
     "output_type": "execute_result"
    }
   ],
   "source": [
    "type(text_sms)"
   ]
  },
  {
   "cell_type": "markdown",
   "metadata": {
    "colab_type": "text",
    "id": "q33kbYN0Ypcg"
   },
   "source": [
    "<a id=section403></a>\n",
    "### 4.3 Text Column Preprocessing"
   ]
  },
  {
   "cell_type": "code",
   "execution_count": 17,
   "metadata": {
    "colab": {
     "base_uri": "https://localhost:8080/",
     "height": 255
    },
    "colab_type": "code",
    "id": "zqoxdHLcU6cs",
    "outputId": "27dfaa27-00d5-44fb-afff-a1bfea9e57e1"
   },
   "outputs": [
    {
     "name": "stdout",
     "output_type": "stream",
     "text": [
      "[nltk_data] Downloading package stopwords to /root/nltk_data...\n",
      "[nltk_data]   Unzipping corpora/stopwords.zip.\n",
      "0       Go jurong point crazi avail bugi n great world...\n",
      "1                                  Ok lar joke wif u oni \n",
      "2       free entri 2 wkli comp win FA cup final tkt 21...\n",
      "3                    U dun say earli hor U c alreadi say \n",
      "4              nah dont think goe usf live around though \n",
      "                              ...                        \n",
      "5567    2nd time tri 2 contact u U å£750 pound prize 2...\n",
      "5568                             Ì b go esplanad fr home \n",
      "5569                             piti mood soani suggest \n",
      "5570    guy bitch act like id interest buy someth els ...\n",
      "5571                                      rofl true name \n",
      "Name: message, Length: 5572, dtype: object\n"
     ]
    }
   ],
   "source": [
    "from nltk.stem import PorterStemmer\n",
    "import nltk\n",
    "nltk.download('stopwords')\n",
    "\n",
    "def text_process(text):   \n",
    "    text = text.translate(str.maketrans('', '', string.punctuation))\n",
    "    text = [word for word in text.split() if word.lower() not in stopwords.words('english')]\n",
    "    words = \"\"\n",
    "    for i in text:          \n",
    "          ps=PorterStemmer()\n",
    "          words += (ps.stem(i))+\" \"\n",
    "    return words\n",
    "\n",
    "text_sms = sms['message'].copy()\n",
    "text_sms = text_sms.apply(text_process)\n",
    "print(text_sms)"
   ]
  },
  {
   "cell_type": "code",
   "execution_count": 18,
   "metadata": {
    "colab": {},
    "colab_type": "code",
    "id": "uQb_NMCBR8Bw"
   },
   "outputs": [],
   "source": [
    "#import nltk\n",
    "#nltk.download('punkt')\n",
    "#from nltk.tokenize import word_tokenize\n",
    "####function to split text into word\n",
    "#tokens = word_tokenize(\"The quick brown fox jumps over the lazy dog\")\n",
    "#nltk.download('stopwords')\n",
    "#print(tokens)"
   ]
  },
  {
   "cell_type": "markdown",
   "metadata": {
    "colab_type": "text",
    "id": "n3J3Mw45YV12"
   },
   "source": [
    "<a id=section404></a>\n",
    "### 4.4 Convert Words to Vector"
   ]
  },
  {
   "cell_type": "code",
   "execution_count": 19,
   "metadata": {
    "colab": {},
    "colab_type": "code",
    "id": "AAl6Fi_iV1x6"
   },
   "outputs": [],
   "source": [
    "vectorizer = TfidfVectorizer(\"english\")\n",
    "X_tf = vectorizer.fit_transform(text_sms)"
   ]
  },
  {
   "cell_type": "code",
   "execution_count": 20,
   "metadata": {
    "colab": {
     "base_uri": "https://localhost:8080/",
     "height": 51
    },
    "colab_type": "code",
    "id": "hgzivMmNYfEx",
    "outputId": "04aa0b12-e28c-4bf0-dfcf-d40db9cd2f64"
   },
   "outputs": [
    {
     "data": {
      "text/plain": [
       "<5572x8039 sparse matrix of type '<class 'numpy.float64'>'\n",
       "\twith 46979 stored elements in Compressed Sparse Row format>"
      ]
     },
     "execution_count": 20,
     "metadata": {
      "tags": []
     },
     "output_type": "execute_result"
    }
   ],
   "source": [
    "X_tf"
   ]
  },
  {
   "cell_type": "code",
   "execution_count": 21,
   "metadata": {
    "colab": {},
    "colab_type": "code",
    "id": "0W9JyxueAicQ"
   },
   "outputs": [],
   "source": [
    "count_vec=CountVectorizer()\n",
    "X_ct=count_vec.fit_transform(text_sms)"
   ]
  },
  {
   "cell_type": "code",
   "execution_count": 22,
   "metadata": {
    "colab": {
     "base_uri": "https://localhost:8080/",
     "height": 51
    },
    "colab_type": "code",
    "id": "kPMmYXxCBIYd",
    "outputId": "b0d9c48c-db30-463d-d98b-1a1a569266a7"
   },
   "outputs": [
    {
     "data": {
      "text/plain": [
       "<5572x8039 sparse matrix of type '<class 'numpy.int64'>'\n",
       "\twith 46979 stored elements in Compressed Sparse Row format>"
      ]
     },
     "execution_count": 22,
     "metadata": {
      "tags": []
     },
     "output_type": "execute_result"
    }
   ],
   "source": [
    "X_ct"
   ]
  },
  {
   "cell_type": "markdown",
   "metadata": {
    "colab_type": "text",
    "id": "S6-W-MPb_jcB"
   },
   "source": [
    "<a id=section5></a>\n",
    "## 5. Import Models and Metrics"
   ]
  },
  {
   "cell_type": "code",
   "execution_count": 23,
   "metadata": {
    "colab": {},
    "colab_type": "code",
    "id": "hdSuAqIx_yoS"
   },
   "outputs": [],
   "source": [
    "# import models\n",
    "from sklearn.linear_model import LogisticRegression\n",
    "from sklearn.svm import SVC\n",
    "from sklearn.naive_bayes import MultinomialNB\n",
    "from sklearn.tree import DecisionTreeClassifier\n",
    "from sklearn.neighbors import KNeighborsClassifier\n",
    "from sklearn.ensemble import RandomForestClassifier\n",
    "\n",
    "# import metrics\n",
    "from sklearn import metrics\n",
    "from sklearn.metrics import accuracy_score\n",
    "from sklearn.metrics import confusion_matrix\n",
    "from sklearn.metrics import classification_report"
   ]
  },
  {
   "cell_type": "markdown",
   "metadata": {
    "colab_type": "text",
    "id": "rQwJJ8waBOEr"
   },
   "source": [
    "<a id=section6></a> \n",
    "## 6. Train test Split"
   ]
  },
  {
   "cell_type": "code",
   "execution_count": 24,
   "metadata": {
    "colab": {},
    "colab_type": "code",
    "id": "mcsTgeQtBSPX"
   },
   "outputs": [],
   "source": [
    "X_train, X_test, y_train,y_test= train_test_split(X_tf, sms['label'], test_size=.30, random_state =1)"
   ]
  },
  {
   "cell_type": "code",
   "execution_count": 25,
   "metadata": {
    "colab": {
     "base_uri": "https://localhost:8080/",
     "height": 85
    },
    "colab_type": "code",
    "id": "RapcRoRcB9nq",
    "outputId": "09c7906a-1c13-43ca-ec09-19576f6612d2"
   },
   "outputs": [
    {
     "name": "stdout",
     "output_type": "stream",
     "text": [
      "Shape of X_train (3900, 8039)\n",
      "Shape of X_test (1672, 8039)\n",
      "Shape of y_train (3900,)\n",
      "Shape of y_test (1672,)\n"
     ]
    }
   ],
   "source": [
    "print('Shape of X_train',X_train.shape)\n",
    "print('Shape of X_test',X_test.shape)\n",
    "print('Shape of y_train',y_train.shape)\n",
    "print('Shape of y_test',y_test.shape)"
   ]
  },
  {
   "cell_type": "markdown",
   "metadata": {
    "colab_type": "text",
    "id": "TfU4a9vSCuz7"
   },
   "source": [
    "<a id=section7></a> \n",
    "## 7.Applying Models"
   ]
  },
  {
   "cell_type": "code",
   "execution_count": 26,
   "metadata": {
    "colab": {},
    "colab_type": "code",
    "id": "_AnlO2HTnWk7"
   },
   "outputs": [],
   "source": [
    "# In following steps we will apply different model on the data and validate which model \n",
    "# is able to provide the optimal results against the dataset"
   ]
  },
  {
   "cell_type": "markdown",
   "metadata": {
    "colab_type": "text",
    "id": "Ni_wzx_yWq8F"
   },
   "source": [
    "<a id=section701></a>\n",
    "### 7.1 Expected Outcome from Model"
   ]
  },
  {
   "cell_type": "code",
   "execution_count": 27,
   "metadata": {
    "colab": {},
    "colab_type": "code",
    "id": "TTo74DLwSKYp"
   },
   "outputs": [],
   "source": [
    "#\t      ham\t    spam\n",
    "# ham \t00 TN \t01 FP\t\n",
    "# spam\t10 FN\t  11 TP\n",
    "\n",
    "\n",
    "# 0-negative (ham)\n",
    "# 1-positive (spam)\n",
    "\n",
    "# Let's consider task of classifying the message as SPAM 'positive' case\n",
    "# and classifying it as HAM -a 'negative' case \n",
    "\n",
    "# Expected outcome of modelling should be - classifying SPAM message as a SPAM (positive case). \n",
    "# However, I as a client also want to focus on \n",
    "# \"NOT MISSING OUT ON AN IMPORTANT MESSAGE (HAM)\" by classifying it as \"SPAM\" (FALSE POSITIVE) \n",
    "\n",
    "# Hence we will have to focus upon increasing RECALL along with increasing PRECISION metrics and hence \n",
    "# increasing the F1 score altogether to improve both of them"
   ]
  },
  {
   "cell_type": "markdown",
   "metadata": {
    "colab_type": "text",
    "id": "PGzvtS37C2jl"
   },
   "source": [
    "<a id=section702></a>\n",
    "### 7.2 Multinomial Naive Bayes"
   ]
  },
  {
   "cell_type": "code",
   "execution_count": 28,
   "metadata": {
    "colab": {},
    "colab_type": "code",
    "id": "Ym1xFYBHC83a"
   },
   "outputs": [],
   "source": [
    "mnb =MultinomialNB()\n",
    "mnb.fit(X_train, y_train)\n",
    "y_pred =mnb.predict(X_test)"
   ]
  },
  {
   "cell_type": "code",
   "execution_count": 29,
   "metadata": {
    "colab": {
     "base_uri": "https://localhost:8080/",
     "height": 34
    },
    "colab_type": "code",
    "id": "bxbkJYL5Jpfh",
    "outputId": "8f1ca50a-20c2-44dd-8eee-1fdc3f3915dd"
   },
   "outputs": [
    {
     "data": {
      "text/plain": [
       "MultinomialNB(alpha=1.0, class_prior=None, fit_prior=True)"
      ]
     },
     "execution_count": 29,
     "metadata": {
      "tags": []
     },
     "output_type": "execute_result"
    }
   ],
   "source": [
    "mnb"
   ]
  },
  {
   "cell_type": "code",
   "execution_count": 30,
   "metadata": {
    "colab": {
     "base_uri": "https://localhost:8080/",
     "height": 34
    },
    "colab_type": "code",
    "id": "0NUt6b4dFlE5",
    "outputId": "619ca504-b8a7-4d60-8832-284efdf56e71"
   },
   "outputs": [
    {
     "name": "stdout",
     "output_type": "stream",
     "text": [
      "Accuracy Score of Multinomial NB: 0.9617224880382775\n"
     ]
    }
   ],
   "source": [
    "print('Accuracy Score of Multinomial NB:',metrics.accuracy_score(y_test,y_pred))"
   ]
  },
  {
   "cell_type": "code",
   "execution_count": 31,
   "metadata": {
    "colab": {
     "base_uri": "https://localhost:8080/",
     "height": 54
    },
    "colab_type": "code",
    "id": "stCRyjawF93A",
    "outputId": "9c8e2b41-ce76-404d-c5cf-6b9ed6b0eade"
   },
   "outputs": [
    {
     "data": {
      "text/plain": [
       "array([[1454,    0],\n",
       "       [  64,  154]])"
      ]
     },
     "execution_count": 31,
     "metadata": {
      "tags": []
     },
     "output_type": "execute_result"
    }
   ],
   "source": [
    "metrics.confusion_matrix(y_test, y_pred)"
   ]
  },
  {
   "cell_type": "code",
   "execution_count": 32,
   "metadata": {
    "colab": {},
    "colab_type": "code",
    "id": "Ur-XBnqIJmL1"
   },
   "outputs": [],
   "source": [
    "mnb1 =MultinomialNB(alpha=0.1)\n",
    "mnb1.fit(X_train, y_train)\n",
    "y_pred =mnb1.predict(X_test)"
   ]
  },
  {
   "cell_type": "markdown",
   "metadata": {
    "colab_type": "text",
    "id": "HLTGi1Z_RMJp"
   },
   "source": [
    "### Accuracy Score"
   ]
  },
  {
   "cell_type": "code",
   "execution_count": 79,
   "metadata": {
    "colab": {
     "base_uri": "https://localhost:8080/",
     "height": 35
    },
    "colab_type": "code",
    "id": "vTUaoYTDJuoF",
    "outputId": "5d78e1a3-c6f9-4163-d9e8-9bbd19ad2bdd"
   },
   "outputs": [
    {
     "name": "stdout",
     "output_type": "stream",
     "text": [
      "0.9778708133971292\n"
     ]
    }
   ],
   "source": [
    "score1 =metrics.accuracy_score(y_test,y_pred)\n",
    "print(score1)"
   ]
  },
  {
   "cell_type": "code",
   "execution_count": 232,
   "metadata": {
    "colab": {},
    "colab_type": "code",
    "id": "GdQkgCAkz4Tj"
   },
   "outputs": [],
   "source": [
    "# prediction score holding dictionary\n",
    "pred_dict = {'mnb':score1}\n"
   ]
  },
  {
   "cell_type": "code",
   "execution_count": 233,
   "metadata": {
    "colab": {
     "base_uri": "https://localhost:8080/",
     "height": 35
    },
    "colab_type": "code",
    "id": "r-JL02AX0J1R",
    "outputId": "50574a7e-ff13-4b8d-a340-0887d1947c82"
   },
   "outputs": [
    {
     "data": {
      "text/plain": [
       "{'mnb': 0.9778708133971292}"
      ]
     },
     "execution_count": 233,
     "metadata": {
      "tags": []
     },
     "output_type": "execute_result"
    }
   ],
   "source": [
    "pred_dict"
   ]
  },
  {
   "cell_type": "markdown",
   "metadata": {
    "colab_type": "text",
    "id": "LSCMMCiJbg6F"
   },
   "source": [
    "### Classification Report"
   ]
  },
  {
   "cell_type": "code",
   "execution_count": 34,
   "metadata": {
    "colab": {
     "base_uri": "https://localhost:8080/",
     "height": 181
    },
    "colab_type": "code",
    "id": "OdfZ-WSNM6bF",
    "outputId": "ee289caf-f876-45fe-f864-1645be0842da"
   },
   "outputs": [
    {
     "name": "stdout",
     "output_type": "stream",
     "text": [
      "              precision    recall  f1-score   support\n",
      "\n",
      "         ham       0.99      0.99      0.99      1454\n",
      "        spam       0.92      0.91      0.91       218\n",
      "\n",
      "    accuracy                           0.98      1672\n",
      "   macro avg       0.95      0.95      0.95      1672\n",
      "weighted avg       0.98      0.98      0.98      1672\n",
      "\n"
     ]
    }
   ],
   "source": [
    "print(classification_report(y_test, y_pred))"
   ]
  },
  {
   "cell_type": "markdown",
   "metadata": {
    "colab_type": "text",
    "id": "Eaap5TUURSA3"
   },
   "source": [
    "### Confusion Matrix\n"
   ]
  },
  {
   "cell_type": "code",
   "execution_count": 35,
   "metadata": {
    "colab": {
     "base_uri": "https://localhost:8080/",
     "height": 54
    },
    "colab_type": "code",
    "id": "WNHYNQjyJxPd",
    "outputId": "ca8b7754-63b2-4525-cdeb-bdec7cde8d9f"
   },
   "outputs": [
    {
     "data": {
      "text/plain": [
       "array([[1436,   18],\n",
       "       [  19,  199]])"
      ]
     },
     "execution_count": 35,
     "metadata": {
      "tags": []
     },
     "output_type": "execute_result"
    }
   ],
   "source": [
    "metrics.confusion_matrix(y_test, y_pred)"
   ]
  },
  {
   "cell_type": "code",
   "execution_count": 36,
   "metadata": {
    "colab": {},
    "colab_type": "code",
    "id": "AGqtOhSCKCNt"
   },
   "outputs": [],
   "source": [
    "\n",
    "def model_training(model,X,y):\n",
    "  model,X_train,y_train = model, X, y\n",
    "\n",
    "  for k,v in model_dict: \n",
    "    model.fit(X_Train, y_train)"
   ]
  },
  {
   "cell_type": "markdown",
   "metadata": {
    "colab_type": "text",
    "id": "AvhTlSm0dU2H"
   },
   "source": [
    "### Find Best Estimator using GridSearchCV"
   ]
  },
  {
   "cell_type": "code",
   "execution_count": 37,
   "metadata": {
    "colab": {
     "base_uri": "https://localhost:8080/",
     "height": 254
    },
    "colab_type": "code",
    "id": "OVo4belqcj7o",
    "outputId": "ebb5c16b-735a-4143-e895-b7d30691a579"
   },
   "outputs": [
    {
     "name": "stdout",
     "output_type": "stream",
     "text": [
      "GridSearchCV(cv=None, error_score=nan,\n",
      "             estimator=MultinomialNB(alpha=1.0, class_prior=None,\n",
      "                                     fit_prior=True),\n",
      "             iid='deprecated', n_jobs=None,\n",
      "             param_grid={'alpha': array([0.        , 0.07142857, 0.14285714, 0.21428571, 0.28571429,\n",
      "       0.35714286, 0.42857143, 0.5       , 0.57142857, 0.64285714,\n",
      "       0.71428571, 0.78571429, 0.85714286, 0.92857143, 1.        ])},\n",
      "             pre_dispatch='2*n_jobs', refit=True, return_train_score=False,\n",
      "             scoring=None, verbose=0)\n",
      "\n",
      " Best Score: 0.9807692307692308\n",
      "\n",
      " Best Estimator: 0.14285714285714285\n"
     ]
    }
   ],
   "source": [
    "from sklearn.model_selection import GridSearchCV\n",
    "\n",
    "# prepare a range of alpha values to test\n",
    "alphas = np.linspace(0,1,15)\n",
    "\n",
    "# create and fit Multinomial Naive Bayes model, testing each alpha\n",
    "model =MultinomialNB()\n",
    "grid = GridSearchCV(estimator=model, param_grid=dict(alpha=alphas))\n",
    "grid.fit(X_train, y_train)\n",
    "print(grid)\n",
    "# summarize the results of the grid search\n",
    "print('\\n Best Score:',grid.best_score_)\n",
    "print('\\n Best Estimator:',grid.best_estimator_.alpha)"
   ]
  },
  {
   "cell_type": "code",
   "execution_count": 91,
   "metadata": {
    "colab": {},
    "colab_type": "code",
    "id": "jGexeVbbd686"
   },
   "outputs": [],
   "source": [
    "mnb1=MultinomialNB(alpha=0.15)\n",
    "mnb1.fit(X_train, y_train)\n",
    "y_test_mnb1=mnb1.predict(X_test)"
   ]
  },
  {
   "cell_type": "code",
   "execution_count": 106,
   "metadata": {
    "colab": {
     "base_uri": "https://localhost:8080/",
     "height": 35
    },
    "colab_type": "code",
    "id": "GZSXXHbMeOC7",
    "outputId": "a4d277fa-3673-4536-b297-d3d1d1c73df9"
   },
   "outputs": [
    {
     "name": "stdout",
     "output_type": "stream",
     "text": [
      "Accuracy Score of MNB after tuning is : 0.9778708133971292\n"
     ]
    }
   ],
   "source": [
    "score2=metrics.accuracy_score(y_test,y_test_mnb1)\n",
    "print(f'Accuracy Score of MNB after tuning is : {score2}')"
   ]
  },
  {
   "cell_type": "code",
   "execution_count": 234,
   "metadata": {
    "colab": {
     "base_uri": "https://localhost:8080/",
     "height": 35
    },
    "colab_type": "code",
    "id": "NWS-A3Og0kcQ",
    "outputId": "f5498c58-84b7-40b5-8805-37783659dc51"
   },
   "outputs": [
    {
     "data": {
      "text/plain": [
       "{'mnb': (0.9778708133971292, 0.9778708133971292)}"
      ]
     },
     "execution_count": 234,
     "metadata": {
      "tags": []
     },
     "output_type": "execute_result"
    }
   ],
   "source": [
    "pred_dict.update({'mnb':(score1,score2)})\n",
    "pred_dict"
   ]
  },
  {
   "cell_type": "code",
   "execution_count": 40,
   "metadata": {
    "colab": {
     "base_uri": "https://localhost:8080/",
     "height": 181
    },
    "colab_type": "code",
    "id": "234pSuT4bsXk",
    "outputId": "6460d456-d156-40af-8cb8-fbe1790b0fc3"
   },
   "outputs": [
    {
     "name": "stdout",
     "output_type": "stream",
     "text": [
      "              precision    recall  f1-score   support\n",
      "\n",
      "         ham       0.99      0.99      0.99      1454\n",
      "        spam       0.92      0.91      0.91       218\n",
      "\n",
      "    accuracy                           0.98      1672\n",
      "   macro avg       0.95      0.95      0.95      1672\n",
      "weighted avg       0.98      0.98      0.98      1672\n",
      "\n"
     ]
    }
   ],
   "source": [
    "print(classification_report(y_test, y_test_mnb1))"
   ]
  },
  {
   "cell_type": "code",
   "execution_count": 41,
   "metadata": {
    "colab": {},
    "colab_type": "code",
    "id": "dcSMxhGTcjxo"
   },
   "outputs": [],
   "source": [
    "# Observation : precision, recall, f1-score of HAM and SPAM has improved"
   ]
  },
  {
   "cell_type": "markdown",
   "metadata": {
    "colab_type": "text",
    "id": "0kMnZX0DNPS1"
   },
   "source": [
    "### Find Best Estimator using RandomizedSearchCV"
   ]
  },
  {
   "cell_type": "code",
   "execution_count": 42,
   "metadata": {
    "colab": {
     "base_uri": "https://localhost:8080/",
     "height": 237
    },
    "colab_type": "code",
    "id": "C_w32Yxzevn3",
    "outputId": "39380088-a62d-4577-960f-99e6ee774700"
   },
   "outputs": [
    {
     "name": "stdout",
     "output_type": "stream",
     "text": [
      "RandomizedSearchCV(cv=None, error_score=nan,\n",
      "                   estimator=MultinomialNB(alpha=1.0, class_prior=None,\n",
      "                                           fit_prior=True),\n",
      "                   iid='deprecated', n_iter=15, n_jobs=None,\n",
      "                   param_distributions={'alpha': <scipy.stats._distn_infrastructure.rv_frozen object at 0x7f8d3f88d080>},\n",
      "                   pre_dispatch='2*n_jobs', random_state=None, refit=True,\n",
      "                   return_train_score=False, scoring=None, verbose=0)\n",
      "\n",
      " Best Score: 0.9805128205128206\n",
      "\n",
      " Best Estimator: 0.2699442381508792\n"
     ]
    }
   ],
   "source": [
    "from sklearn.model_selection import RandomizedSearchCV\n",
    "from scipy.stats import uniform as sp_rand\n",
    "param_grid = {'alpha': sp_rand()}\n",
    "\n",
    "model=MultinomialNB()\n",
    "RCV = RandomizedSearchCV(model,param_distributions=param_grid,n_iter= 15)\n",
    "RCV.fit(X_train, y_train)\n",
    "print(RCV)\n",
    "# summarize the results of the grid search\n",
    "print('\\n Best Score:',RCV.best_score_)\n",
    "print('\\n Best Estimator:',RCV.best_estimator_.alpha)"
   ]
  },
  {
   "cell_type": "code",
   "execution_count": 117,
   "metadata": {
    "colab": {
     "base_uri": "https://localhost:8080/",
     "height": 35
    },
    "colab_type": "code",
    "id": "CIUDOWxwf9mR",
    "outputId": "1e541ef8-ff29-46f7-ce4d-e82cc76d9a03"
   },
   "outputs": [
    {
     "name": "stdout",
     "output_type": "stream",
     "text": [
      "Accuracy Score of MNB after randomized SearchCV :0.9772727272727273\n"
     ]
    }
   ],
   "source": [
    "mnb2=MultinomialNB(alpha=0.2)\n",
    "mnb2.fit(X_train, y_train)\n",
    "y_test_mnb2=mnb2.predict(X_test)\n",
    "\n",
    "score3=metrics.accuracy_score(y_test_mnb2,y_test)\n",
    "print(f'Accuracy Score of MNB after randomized SearchCV :{score3}') "
   ]
  },
  {
   "cell_type": "markdown",
   "metadata": {
    "colab_type": "text",
    "id": "8eveyVT8iH65"
   },
   "source": [
    "<a id=section703></a>\n",
    "### 7.3 Logistic Regression"
   ]
  },
  {
   "cell_type": "code",
   "execution_count": 118,
   "metadata": {
    "colab": {
     "base_uri": "https://localhost:8080/",
     "height": 35
    },
    "colab_type": "code",
    "id": "sZTnUUTAiryG",
    "outputId": "0972d5d1-7555-4acb-ba45-36b11cd010b3"
   },
   "outputs": [
    {
     "name": "stdout",
     "output_type": "stream",
     "text": [
      "Accuracy Score of Logistic Regression: 0.9527511961722488\n"
     ]
    }
   ],
   "source": [
    "lr= LogisticRegression()\n",
    "lr.fit(X_train,y_train)\n",
    "y_pred_lr =lr.predict(X_test)\n",
    "\n",
    "score3=metrics.accuracy_score(y_pred_lr,y_test)\n",
    "print(f'Accuracy Score of Logistic Regression: {score3}')"
   ]
  },
  {
   "cell_type": "markdown",
   "metadata": {
    "colab_type": "text",
    "id": "t4XqQ0WzSypZ"
   },
   "source": [
    "### Tuning the Model- GridSearchCV"
   ]
  },
  {
   "cell_type": "code",
   "execution_count": 45,
   "metadata": {
    "colab": {
     "base_uri": "https://localhost:8080/",
     "height": 163
    },
    "colab_type": "code",
    "id": "C9L_HIgfi9yO",
    "outputId": "2d7ef525-153c-4f40-8aa9-362b4af9bbc8"
   },
   "outputs": [
    {
     "name": "stdout",
     "output_type": "stream",
     "text": [
      "\n",
      " Best Score: 0.9443589743589744\n",
      "\n",
      " Best Estimator: LogisticRegression(C=1.0, class_weight=None, dual=False, fit_intercept='True',\n",
      "                   intercept_scaling=1, l1_ratio=None, max_iter=100,\n",
      "                   multi_class='auto', n_jobs=None, penalty='l1',\n",
      "                   random_state=None, solver='liblinear', tol=0.0001, verbose=0,\n",
      "                   warm_start=False)\n"
     ]
    }
   ],
   "source": [
    "model =LogisticRegression()\n",
    "\n",
    "param_grid= { 'penalty' : ('l1', 'l2'),\n",
    "'fit_intercept' : ('True','False'),\n",
    "'solver' : (['liblinear']) }\n",
    "\n",
    "GCV = GridSearchCV(model, param_grid=dict(param_grid))\n",
    "GCV.fit(X_train, y_train)\n",
    "\n",
    "# summarize the results of the grid search\n",
    "print('\\n Best Score:',GCV.best_score_)\n",
    "print('\\n Best Estimator:',GCV.best_estimator_)"
   ]
  },
  {
   "cell_type": "code",
   "execution_count": 46,
   "metadata": {
    "colab": {},
    "colab_type": "code",
    "id": "RIdSEx13IJ6t"
   },
   "outputs": [],
   "source": [
    " lr_tuned =LogisticRegression(C=1.0, class_weight=None, dual=False, fit_intercept='True',\n",
    "                   intercept_scaling=1, l1_ratio=None, max_iter=100,\n",
    "                   multi_class='auto', n_jobs=None, penalty='l1',\n",
    "                   random_state=None, solver='liblinear', tol=0.0001, verbose=0,\n",
    "                   warm_start=False)\n",
    " \n",
    "lr_tuned.fit(X_train, y_train)\n",
    "y_pred_lr1 = lr_tuned.predict(X_test)"
   ]
  },
  {
   "cell_type": "markdown",
   "metadata": {
    "colab_type": "text",
    "id": "YBHR-kA_S7eu"
   },
   "source": [
    "### Accuracy Score & Confusion Matrix"
   ]
  },
  {
   "cell_type": "code",
   "execution_count": 120,
   "metadata": {
    "colab": {
     "base_uri": "https://localhost:8080/",
     "height": 35
    },
    "colab_type": "code",
    "id": "89CP5m9RI1p1",
    "outputId": "dc924865-53b1-404f-b6e3-f01fc6b57cdd"
   },
   "outputs": [
    {
     "name": "stdout",
     "output_type": "stream",
     "text": [
      "Accuracy Score of Tuned Logistic Regression: 0.9557416267942583\n"
     ]
    }
   ],
   "source": [
    "score4=metrics.accuracy_score(y_test,y_pred_lr1)\n",
    "\n",
    "print(f'Accuracy Score of Tuned Logistic Regression: {score4}')"
   ]
  },
  {
   "cell_type": "code",
   "execution_count": 235,
   "metadata": {
    "colab": {
     "base_uri": "https://localhost:8080/",
     "height": 35
    },
    "colab_type": "code",
    "id": "W5o8VLrv6eTK",
    "outputId": "0496314f-5527-4e91-c0a7-1b8eca36f336"
   },
   "outputs": [
    {
     "name": "stdout",
     "output_type": "stream",
     "text": [
      "{'mnb': (0.9778708133971292, 0.9778708133971292), 'LogReg': (0.9527511961722488, 0.9557416267942583)}\n"
     ]
    }
   ],
   "source": [
    "pred_dict.update({'LogReg':(score3,score4)})\n",
    "print(pred_dict)"
   ]
  },
  {
   "cell_type": "code",
   "execution_count": 48,
   "metadata": {
    "colab": {},
    "colab_type": "code",
    "id": "3zguY9gvI-Pg"
   },
   "outputs": [],
   "source": [
    "# Observation : Accuracy for Logistic regression improved with slight margin"
   ]
  },
  {
   "cell_type": "code",
   "execution_count": 49,
   "metadata": {
    "colab": {
     "base_uri": "https://localhost:8080/",
     "height": 272
    },
    "colab_type": "code",
    "id": "JYwmL9C9JVU8",
    "outputId": "b0d8b27b-8ebe-418f-9e29-dddea11645a4"
   },
   "outputs": [
    {
     "name": "stdout",
     "output_type": "stream",
     "text": [
      "             Predicted Ham  Predicted Spam\n",
      "Actual Ham            1445               9\n",
      "Actual Spam             65             153\n",
      "\n",
      " Classification_report :\n",
      "               precision    recall  f1-score   support\n",
      "\n",
      "         ham       0.96      0.99      0.98      1454\n",
      "        spam       0.94      0.70      0.81       218\n",
      "\n",
      "    accuracy                           0.96      1672\n",
      "   macro avg       0.95      0.85      0.89      1672\n",
      "weighted avg       0.96      0.96      0.95      1672\n",
      "\n"
     ]
    }
   ],
   "source": [
    "confusion_matrix = pd.DataFrame(metrics.confusion_matrix(y_test,y_pred_lr1))\n",
    "confusion_matrix.index = ['Actual Ham','Actual Spam']\n",
    "confusion_matrix.columns = ['Predicted Ham','Predicted Spam']\n",
    "print(confusion_matrix)\n",
    "\n",
    "print('\\n Classification_report :\\n',classification_report(y_test,y_pred_lr1))"
   ]
  },
  {
   "cell_type": "markdown",
   "metadata": {
    "colab_type": "text",
    "id": "YvsjN8sxTJX_"
   },
   "source": [
    "<a id=section704></a>\n",
    "### 7.4 Decision Tree Classifier"
   ]
  },
  {
   "cell_type": "code",
   "execution_count": 50,
   "metadata": {
    "colab": {},
    "colab_type": "code",
    "id": "gaieio0cTctJ"
   },
   "outputs": [],
   "source": [
    "dt= DecisionTreeClassifier(random_state=1)\n",
    "\n",
    "dt.fit(X_train,y_train)\n",
    "y_pred_dt =dt.predict(X_test)"
   ]
  },
  {
   "cell_type": "code",
   "execution_count": 51,
   "metadata": {
    "colab": {
     "base_uri": "https://localhost:8080/",
     "height": 126
    },
    "colab_type": "code",
    "id": "xxxYT8CSBY6c",
    "outputId": "7cb35d6d-3e6b-4673-873a-d647ed545708"
   },
   "outputs": [
    {
     "data": {
      "text/plain": [
       "DecisionTreeClassifier(ccp_alpha=0.0, class_weight=None, criterion='gini',\n",
       "                       max_depth=None, max_features=None, max_leaf_nodes=None,\n",
       "                       min_impurity_decrease=0.0, min_impurity_split=None,\n",
       "                       min_samples_leaf=1, min_samples_split=2,\n",
       "                       min_weight_fraction_leaf=0.0, presort='deprecated',\n",
       "                       random_state=1, splitter='best')"
      ]
     },
     "execution_count": 51,
     "metadata": {
      "tags": []
     },
     "output_type": "execute_result"
    }
   ],
   "source": [
    "dt"
   ]
  },
  {
   "cell_type": "code",
   "execution_count": 123,
   "metadata": {
    "colab": {
     "base_uri": "https://localhost:8080/",
     "height": 90
    },
    "colab_type": "code",
    "id": "B7hF7F_TTcfY",
    "outputId": "b38f0f7b-0b5b-40e2-a321-8edf3dbc8531"
   },
   "outputs": [
    {
     "name": "stdout",
     "output_type": "stream",
     "text": [
      "Accuracy Score of Decision Tree: 0.9569377990430622\n",
      "Confusion matrix for DT: \n",
      " [[1426   28]\n",
      " [  44  174]]\n"
     ]
    }
   ],
   "source": [
    "score5=metrics.accuracy_score(y_test,y_pred_dt)\n",
    "print('Accuracy Score of Decision Tree:',score5)\n",
    "print('Confusion matrix for DT: \\n',metrics.confusion_matrix(y_test,y_pred_dt))"
   ]
  },
  {
   "cell_type": "code",
   "execution_count": 53,
   "metadata": {
    "colab": {
     "base_uri": "https://localhost:8080/",
     "height": 181
    },
    "colab_type": "code",
    "id": "c37QdqKlUiAs",
    "outputId": "f216562c-cbb0-4d8f-d855-8b450db5322a"
   },
   "outputs": [
    {
     "name": "stdout",
     "output_type": "stream",
     "text": [
      "              precision    recall  f1-score   support\n",
      "\n",
      "         ham       0.97      0.98      0.98      1454\n",
      "        spam       0.86      0.80      0.83       218\n",
      "\n",
      "    accuracy                           0.96      1672\n",
      "   macro avg       0.92      0.89      0.90      1672\n",
      "weighted avg       0.96      0.96      0.96      1672\n",
      "\n"
     ]
    }
   ],
   "source": [
    "from sklearn.metrics import classification_report\n",
    "print(classification_report(y_test,y_pred_dt))"
   ]
  },
  {
   "cell_type": "code",
   "execution_count": null,
   "metadata": {
    "colab": {},
    "colab_type": "code",
    "id": "Y1HTSOIi7Trj"
   },
   "outputs": [],
   "source": []
  },
  {
   "cell_type": "markdown",
   "metadata": {
    "colab_type": "text",
    "id": "_wPhARcpdTSE"
   },
   "source": [
    "### Find Best DT Estimator"
   ]
  },
  {
   "cell_type": "code",
   "execution_count": 54,
   "metadata": {
    "colab": {
     "base_uri": "https://localhost:8080/",
     "height": 35
    },
    "colab_type": "code",
    "id": "tkR_ALaMdZ3-",
    "outputId": "e0a027ce-5042-428f-ae5c-eca2b9d3eae6"
   },
   "outputs": [
    {
     "name": "stdout",
     "output_type": "stream",
     "text": [
      "{'min_samples_split': [1, 2, 3, 4], 'criterion': ['gini', 'entropy']}\n"
     ]
    }
   ],
   "source": [
    "DT = DecisionTreeClassifier(random_state=1)\n",
    "criterion =['gini','entropy']\n",
    "min_samples_split =[1,2,3,4]\n",
    "parameters = dict(min_samples_split =min_samples_split ,criterion=criterion)\n",
    "print(parameters)"
   ]
  },
  {
   "cell_type": "code",
   "execution_count": 55,
   "metadata": {
    "colab": {
     "base_uri": "https://localhost:8080/",
     "height": 326
    },
    "colab_type": "code",
    "id": "Cnlkgtu8gkzs",
    "outputId": "e312c945-817d-41e9-ee39-1ecafaf631e2"
   },
   "outputs": [
    {
     "data": {
      "text/plain": [
       "GridSearchCV(cv=3, error_score=nan,\n",
       "             estimator=DecisionTreeClassifier(ccp_alpha=0.0, class_weight=None,\n",
       "                                              criterion='gini', max_depth=None,\n",
       "                                              max_features=None,\n",
       "                                              max_leaf_nodes=None,\n",
       "                                              min_impurity_decrease=0.0,\n",
       "                                              min_impurity_split=None,\n",
       "                                              min_samples_leaf=1,\n",
       "                                              min_samples_split=2,\n",
       "                                              min_weight_fraction_leaf=0.0,\n",
       "                                              presort='deprecated',\n",
       "                                              random_state=1, splitter='best'),\n",
       "             iid='deprecated', n_jobs=None,\n",
       "             param_grid={'criterion': ['gini', 'entropy'],\n",
       "                         'min_samples_split': [1, 2, 3, 4]},\n",
       "             pre_dispatch='2*n_jobs', refit=True, return_train_score=False,\n",
       "             scoring=None, verbose=0)"
      ]
     },
     "execution_count": 55,
     "metadata": {
      "tags": []
     },
     "output_type": "execute_result"
    }
   ],
   "source": [
    "clf = GridSearchCV(DT,param_grid=parameters,cv=3)\n",
    "clf.fit(X_train, y_train)"
   ]
  },
  {
   "cell_type": "code",
   "execution_count": 56,
   "metadata": {
    "colab": {
     "base_uri": "https://localhost:8080/",
     "height": 153
    },
    "colab_type": "code",
    "id": "ffIULaiznnER",
    "outputId": "d3e0b9fa-2fb4-4c27-99e9-044187923d9e"
   },
   "outputs": [
    {
     "name": "stdout",
     "output_type": "stream",
     "text": [
      "Best estimator: DecisionTreeClassifier(ccp_alpha=0.0, class_weight=None, criterion='gini',\n",
      "                       max_depth=None, max_features=None, max_leaf_nodes=None,\n",
      "                       min_impurity_decrease=0.0, min_impurity_split=None,\n",
      "                       min_samples_leaf=1, min_samples_split=4,\n",
      "                       min_weight_fraction_leaf=0.0, presort='deprecated',\n",
      "                       random_state=1, splitter='best')\n",
      "Best score : 0.9551282051282052\n",
      "Best Paramteres: {'criterion': 'gini', 'min_samples_split': 4}\n"
     ]
    }
   ],
   "source": [
    "print('Best estimator:',clf.best_estimator_)\n",
    "print('Best score :',clf.best_score_)\n",
    "print('Best Paramteres:',clf.best_params_)"
   ]
  },
  {
   "cell_type": "code",
   "execution_count": 57,
   "metadata": {
    "colab": {},
    "colab_type": "code",
    "id": "Mi3_kJHCf5Ep"
   },
   "outputs": [],
   "source": [
    "DT1=DecisionTreeClassifier(ccp_alpha=0.0, class_weight=None, criterion='gini',\n",
    "                       max_depth=None, max_features=None, max_leaf_nodes=None,\n",
    "                       min_impurity_decrease=0.0, min_impurity_split=None,\n",
    "                       min_samples_leaf=1, min_samples_split=2,\n",
    "                       min_weight_fraction_leaf=0.0, presort='deprecated',\n",
    "                       random_state=1, splitter='best')\n",
    "DT1.fit(X_train,y_train)\n",
    "y_pred_dtclf = DT1.predict(X_test)"
   ]
  },
  {
   "cell_type": "code",
   "execution_count": 125,
   "metadata": {
    "colab": {
     "base_uri": "https://localhost:8080/",
     "height": 272
    },
    "colab_type": "code",
    "id": "xcCvGGgGqSE8",
    "outputId": "f4e85be1-c925-4675-c635-0c7ca0d28549"
   },
   "outputs": [
    {
     "name": "stdout",
     "output_type": "stream",
     "text": [
      "             Predicted Ham  Predicted Spam\n",
      "Actual Ham            1426              28\n",
      "Actual Spam             44             174\n",
      "\n",
      " Classification_report :\n",
      "               precision    recall  f1-score   support\n",
      "\n",
      "         ham       0.97      0.98      0.98      1454\n",
      "        spam       0.86      0.80      0.83       218\n",
      "\n",
      "    accuracy                           0.96      1672\n",
      "   macro avg       0.92      0.89      0.90      1672\n",
      "weighted avg       0.96      0.96      0.96      1672\n",
      "\n",
      "Accuracy Score of Decision Tree: 0.9569377990430622\n"
     ]
    }
   ],
   "source": [
    "confusion_matrix = pd.DataFrame(metrics.confusion_matrix(y_test,y_pred_dtclf))\n",
    "confusion_matrix.index = ['Actual Ham','Actual Spam']\n",
    "confusion_matrix.columns = ['Predicted Ham','Predicted Spam']\n",
    "print(confusion_matrix)\n",
    "\n",
    "score6=metrics.accuracy_score(y_test,y_pred_dtclf)\n",
    "\n",
    "print('\\n Classification_report :\\n',classification_report(y_test,y_pred_dtclf))\n",
    "print('Accuracy Score of Decision Tree:', score6)"
   ]
  },
  {
   "cell_type": "code",
   "execution_count": 59,
   "metadata": {
    "colab": {},
    "colab_type": "code",
    "id": "Fl_gy4OQIADS"
   },
   "outputs": [],
   "source": [
    "# Observation: There is NO increase in the accuracy of f1 scores at all. So the baseline model itself is the \n",
    "#              the best model that gives 95.69% of accuracy"
   ]
  },
  {
   "cell_type": "code",
   "execution_count": 236,
   "metadata": {
    "colab": {
     "base_uri": "https://localhost:8080/",
     "height": 54
    },
    "colab_type": "code",
    "id": "lt4vU1j17bhN",
    "outputId": "e615732b-5fd0-4fd9-9982-b4bd60ad4b7a"
   },
   "outputs": [
    {
     "name": "stdout",
     "output_type": "stream",
     "text": [
      "{'mnb': (0.9778708133971292, 0.9778708133971292), 'LogReg': (0.9527511961722488, 0.9557416267942583), 'DT': (0.9569377990430622, 0.9569377990430622)}\n"
     ]
    }
   ],
   "source": [
    "pred_dict.update({'DT':(score5,score6)})\n",
    "print(pred_dict)"
   ]
  },
  {
   "cell_type": "markdown",
   "metadata": {
    "colab_type": "text",
    "id": "TTMT48rTTJO8"
   },
   "source": [
    "<a id=section705></a>\n",
    "### 7.5 Random Forest Classifier"
   ]
  },
  {
   "cell_type": "code",
   "execution_count": 131,
   "metadata": {
    "colab": {
     "base_uri": "https://localhost:8080/",
     "height": 34
    },
    "colab_type": "code",
    "id": "NON8UgokRmnH",
    "outputId": "ae944c1a-e925-49b4-f168-2ed0e1f510a2"
   },
   "outputs": [
    {
     "name": "stdout",
     "output_type": "stream",
     "text": [
      "Accuracy of Random Forest Classifier: 0.9748803827751196\n"
     ]
    }
   ],
   "source": [
    "rfc =RandomForestClassifier()\n",
    "rfc.fit(X_train, y_train)\n",
    "y_pred_rfc=rfc.predict(X_test)\n",
    "score7=metrics.accuracy_score(y_test,y_pred_rfc)\n",
    "print(f'Accuracy of Random Forest Classifier: {score7}')\n",
    "        "
   ]
  },
  {
   "cell_type": "code",
   "execution_count": 237,
   "metadata": {
    "colab": {
     "base_uri": "https://localhost:8080/",
     "height": 54
    },
    "colab_type": "code",
    "id": "axD8Wn6Z8adZ",
    "outputId": "37bc4510-92bc-4e81-a618-39a8d342d54c"
   },
   "outputs": [
    {
     "name": "stdout",
     "output_type": "stream",
     "text": [
      "{'mnb': (0.9778708133971292, 0.9778708133971292), 'LogReg': (0.9527511961722488, 0.9557416267942583), 'DT': (0.9569377990430622, 0.9569377990430622), 'RF': 0.9748803827751196}\n"
     ]
    }
   ],
   "source": [
    "pred_dict.update({'RF':(score7)})\n",
    "print(pred_dict)"
   ]
  },
  {
   "cell_type": "markdown",
   "metadata": {
    "colab_type": "text",
    "id": "Hj7K2zP4Tgc6"
   },
   "source": [
    "<a id=section706></a>\n",
    "### 7.6 SVM Classifier"
   ]
  },
  {
   "cell_type": "code",
   "execution_count": 133,
   "metadata": {
    "colab": {
     "base_uri": "https://localhost:8080/",
     "height": 34
    },
    "colab_type": "code",
    "id": "QsMkGp1ZH911",
    "outputId": "365eca3e-a6f9-467e-f392-926a499c159e"
   },
   "outputs": [
    {
     "name": "stdout",
     "output_type": "stream",
     "text": [
      "Accuracy of SVM Classifier: 0.9700956937799043\n"
     ]
    }
   ],
   "source": [
    "clf_svm = SVC()\n",
    "clf_svm.fit(X_train, y_train)\n",
    "y_pred_svm = clf_svm.predict(X_test)\n",
    "score9= metrics.accuracy_score(y_test,y_pred_svm)\n",
    "print('Accuracy of SVM Classifier:',score9)"
   ]
  },
  {
   "cell_type": "code",
   "execution_count": null,
   "metadata": {
    "colab": {},
    "colab_type": "code",
    "id": "DmGA0TAz8rTl"
   },
   "outputs": [],
   "source": [
    "# Hyper parameter tuning for SVM Classifier"
   ]
  },
  {
   "cell_type": "code",
   "execution_count": 134,
   "metadata": {
    "colab": {
     "base_uri": "https://localhost:8080/",
     "height": 34
    },
    "colab_type": "code",
    "id": "0TR4cWZdrTPy",
    "outputId": "3a134bec-6aab-4607-e7f0-f8a3b7265923"
   },
   "outputs": [
    {
     "name": "stdout",
     "output_type": "stream",
     "text": [
      "Accuracy of SVM Classifier: 0.9772727272727273\n"
     ]
    }
   ],
   "source": [
    "clf_svm1 = SVC(random_state=1, kernel ='sigmoid')\n",
    "clf_svm1.fit(X_train, y_train)\n",
    "y_pred_svm1 = clf_svm1.predict(X_test)\n",
    "\n",
    "score10= metrics.accuracy_score(y_test,y_pred_svm1)\n",
    "print('Accuracy of SVM Classifier:',score10)"
   ]
  },
  {
   "cell_type": "markdown",
   "metadata": {
    "colab_type": "text",
    "id": "6yp8ZWOw_FUX"
   },
   "source": [
    "\n",
    "### Tuning SVC"
   ]
  },
  {
   "cell_type": "code",
   "execution_count": 63,
   "metadata": {
    "colab": {
     "base_uri": "https://localhost:8080/",
     "height": 136
    },
    "colab_type": "code",
    "id": "Z4sKGB0c54Ag",
    "outputId": "c816bf3b-065c-4f4b-b0ce-a94003d080f5"
   },
   "outputs": [
    {
     "name": "stdout",
     "output_type": "stream",
     "text": [
      "\n",
      " Best Score: 0.974102564102564\n",
      "\n",
      " Best Estimator: SVC(C=1.0, break_ties=False, cache_size=200, class_weight=None, coef0=0.0,\n",
      "    decision_function_shape='ovr', degree=3, gamma='scale', kernel='linear',\n",
      "    max_iter=-1, probability=False, random_state=None, shrinking=True,\n",
      "    tol=0.001, verbose=False)\n"
     ]
    }
   ],
   "source": [
    "model =SVC()\n",
    "\n",
    "param_grid= { 'kernel' : ('linear','poly','rbf','sigmoid') }\n",
    "\n",
    "clf_svm_gcv = GridSearchCV(model, param_grid=dict(param_grid))\n",
    "clf_svm_gcv.fit(X_train, y_train)\n",
    "\n",
    "# summarize the results of the grid search\n",
    "print('\\n Best Score:',clf_svm_gcv.best_score_)\n",
    "print('\\n Best Estimator:',clf_svm_gcv.best_estimator_)"
   ]
  },
  {
   "cell_type": "code",
   "execution_count": 64,
   "metadata": {
    "colab": {
     "base_uri": "https://localhost:8080/",
     "height": 272
    },
    "colab_type": "code",
    "id": "3vu8fkMF-gyE",
    "outputId": "0e7a1de9-e4ee-4e38-e5cb-4861c8298541"
   },
   "outputs": [
    {
     "name": "stdout",
     "output_type": "stream",
     "text": [
      "Accuracy Score of Decision Tree: 0.9766746411483254\n",
      "Confusion matrix for DT: \n",
      " [[1453    1]\n",
      " [  38  180]]\n",
      "\n",
      " Classification_report :\n",
      "               precision    recall  f1-score   support\n",
      "\n",
      "         ham       0.97      1.00      0.99      1454\n",
      "        spam       0.99      0.83      0.90       218\n",
      "\n",
      "    accuracy                           0.98      1672\n",
      "   macro avg       0.98      0.91      0.94      1672\n",
      "weighted avg       0.98      0.98      0.98      1672\n",
      "\n"
     ]
    }
   ],
   "source": [
    "clf_svm_tuned = SVC(C=1.0, break_ties=False, cache_size=200, class_weight=None, coef0=0.0,\n",
    "    decision_function_shape='ovr', degree=3, gamma='scale', kernel='linear',\n",
    "    max_iter=-1, probability=False, random_state=1, shrinking=True,\n",
    "    tol=0.001, verbose=False)\n",
    "\n",
    "clf_svm_tuned.fit (X_train, y_train)\n",
    "y_pred_svm2 = clf_svm_tuned.predict(X_test)\n",
    "\n",
    "print('Accuracy Score of Decision Tree:',metrics.accuracy_score(y_test,y_pred_svm2))\n",
    "print('Confusion matrix for DT: \\n',metrics.confusion_matrix(y_test,y_pred_svm2))\n",
    "\n",
    "print('\\n Classification_report :\\n',classification_report(y_test,y_pred_svm2))"
   ]
  },
  {
   "cell_type": "code",
   "execution_count": 65,
   "metadata": {
    "colab": {},
    "colab_type": "code",
    "id": "mXA34Bxn_ul7"
   },
   "outputs": [],
   "source": [
    "#Observation : SVM works better after Multinomial NB classifier yielding 99% f1 score for ham classification. \n",
    "#             However the f1 score is low by alomost 10% for SPAM classification\n",
    "#             Precision is pretty close to each other for spam and ham."
   ]
  },
  {
   "cell_type": "code",
   "execution_count": 238,
   "metadata": {
    "colab": {
     "base_uri": "https://localhost:8080/",
     "height": 54
    },
    "colab_type": "code",
    "id": "-QnYLACP9_Tz",
    "outputId": "14a20570-544b-4a9e-e4a9-4dac040263fa"
   },
   "outputs": [
    {
     "name": "stdout",
     "output_type": "stream",
     "text": [
      "{'mnb': (0.9778708133971292, 0.9778708133971292), 'LogReg': (0.9527511961722488, 0.9557416267942583), 'DT': (0.9569377990430622, 0.9569377990430622), 'RF': 0.9748803827751196, 'SVC': (0.9700956937799043, 0.9772727272727273)}\n"
     ]
    }
   ],
   "source": [
    "pred_dict.update({'SVC':(score9,score10)})\n",
    "print(pred_dict)"
   ]
  },
  {
   "cell_type": "markdown",
   "metadata": {
    "colab_type": "text",
    "id": "IltjgmhwTv7E"
   },
   "source": [
    "<a id=section707></a>\n",
    "###  7.7 K Nearest Neighbour Classifier"
   ]
  },
  {
   "cell_type": "code",
   "execution_count": 136,
   "metadata": {
    "colab": {
     "base_uri": "https://localhost:8080/",
     "height": 34
    },
    "colab_type": "code",
    "id": "Y1jju1-ZTtto",
    "outputId": "e167cf17-309a-4b78-93bb-93328f349f83"
   },
   "outputs": [
    {
     "name": "stdout",
     "output_type": "stream",
     "text": [
      "Accuracy of KNN Classifier: 0.9055023923444976\n"
     ]
    }
   ],
   "source": [
    "clf_knn= KNeighborsClassifier()\n",
    "clf_knn.fit(X_train, y_train)\n",
    "y_pred_knn = clf_knn.predict(X_test)\n",
    "\n",
    "score11 =metrics.accuracy_score(y_test,y_pred_knn)\n",
    "print('Accuracy of KNN Classifier:', score11)"
   ]
  },
  {
   "cell_type": "code",
   "execution_count": 95,
   "metadata": {
    "colab": {},
    "colab_type": "code",
    "id": "Naa8_gdJ568O"
   },
   "outputs": [],
   "source": [
    "pred_scores = []            # define empty list\n",
    "\n",
    "# Iterate through different values of neighbours like 3 to 61 to find the best no of neighbours for clusters\n",
    "for i in range(3,61):       \n",
    "    knc = KNeighborsClassifier(n_neighbors=i)\n",
    "    knc.fit(X_train, y_train)\n",
    "    pred = knc.predict(X_test)\n",
    "    pred_scores.append((i, accuracy_score(y_test,pred)))\n",
    "pred_scores\n",
    "df=pd.DataFrame(pred_scores)\n",
    "df.set_index(0, inplace=True)"
   ]
  },
  {
   "cell_type": "code",
   "execution_count": 68,
   "metadata": {
    "colab": {
     "base_uri": "https://localhost:8080/",
     "height": 497
    },
    "colab_type": "code",
    "id": "2oVLGl0a8wUp",
    "outputId": "1aeede4c-4904-480c-b9ca-be7e2ee93415"
   },
   "outputs": [
    {
     "data": {
      "text/html": [
       "<div>\n",
       "<style scoped>\n",
       "    .dataframe tbody tr th:only-of-type {\n",
       "        vertical-align: middle;\n",
       "    }\n",
       "\n",
       "    .dataframe tbody tr th {\n",
       "        vertical-align: top;\n",
       "    }\n",
       "\n",
       "    .dataframe thead th {\n",
       "        text-align: right;\n",
       "    }\n",
       "</style>\n",
       "<table border=\"1\" class=\"dataframe\">\n",
       "  <thead>\n",
       "    <tr style=\"text-align: right;\">\n",
       "      <th></th>\n",
       "      <th>1</th>\n",
       "    </tr>\n",
       "    <tr>\n",
       "      <th>0</th>\n",
       "      <th></th>\n",
       "    </tr>\n",
       "  </thead>\n",
       "  <tbody>\n",
       "    <tr>\n",
       "      <th>35</th>\n",
       "      <td>0.940789</td>\n",
       "    </tr>\n",
       "    <tr>\n",
       "      <th>37</th>\n",
       "      <td>0.940789</td>\n",
       "    </tr>\n",
       "    <tr>\n",
       "      <th>39</th>\n",
       "      <td>0.939593</td>\n",
       "    </tr>\n",
       "    <tr>\n",
       "      <th>41</th>\n",
       "      <td>0.938995</td>\n",
       "    </tr>\n",
       "    <tr>\n",
       "      <th>43</th>\n",
       "      <td>0.938995</td>\n",
       "    </tr>\n",
       "  </tbody>\n",
       "</table>\n",
       "</div>"
      ],
      "text/plain": [
       "           1\n",
       "0           \n",
       "35  0.940789\n",
       "37  0.940789\n",
       "39  0.939593\n",
       "41  0.938995\n",
       "43  0.938995"
      ]
     },
     "execution_count": 68,
     "metadata": {
      "tags": []
     },
     "output_type": "execute_result"
    },
    {
     "data": {
      "image/png": "[encoded data removed]",
      "text/plain": [
       "<Figure size 432x288 with 1 Axes>"
      ]
     },
     "metadata": {
      "needs_background": "light",
      "tags": []
     },
     "output_type": "display_data"
    }
   ],
   "source": [
    "# Plot the graph of accuracy values across different values of KNN neighbours \n",
    "df.plot()\n",
    "df.nlargest(5, columns=1)"
   ]
  },
  {
   "cell_type": "code",
   "execution_count": 69,
   "metadata": {
    "colab": {},
    "colab_type": "code",
    "id": "fcPfnUNoHmTb"
   },
   "outputs": [],
   "source": [
    "# Observation : Above graph indicates that the maximum accuracy can be obtained from KNN\n",
    "# with 35 or 37 number of neighbours "
   ]
  },
  {
   "cell_type": "code",
   "execution_count": 225,
   "metadata": {
    "colab": {},
    "colab_type": "code",
    "id": "ggFXwB8rJSMZ"
   },
   "outputs": [],
   "source": [
    "s1 =df.nlargest(5, columns=1).iloc[0]\n",
    "score12=s1[1]"
   ]
  },
  {
   "cell_type": "code",
   "execution_count": 239,
   "metadata": {
    "colab": {},
    "colab_type": "code",
    "id": "Ng4_C26RLW1O"
   },
   "outputs": [],
   "source": [
    "pred_dict1=pred_dict.copy()"
   ]
  },
  {
   "cell_type": "code",
   "execution_count": 242,
   "metadata": {
    "colab": {},
    "colab_type": "code",
    "id": "MDCB_UypLiUZ"
   },
   "outputs": [],
   "source": [
    "pred_dict=pred_dict1.copy()"
   ]
  },
  {
   "cell_type": "code",
   "execution_count": 243,
   "metadata": {
    "colab": {
     "base_uri": "https://localhost:8080/",
     "height": 54
    },
    "colab_type": "code",
    "id": "avTnWgT2Kovp",
    "outputId": "72146302-ac66-44b0-8bbe-0e0a024eae59"
   },
   "outputs": [
    {
     "name": "stdout",
     "output_type": "stream",
     "text": [
      "{'mnb': (0.9778708133971292, 0.9778708133971292), 'LogReg': (0.9527511961722488, 0.9557416267942583), 'DT': (0.9569377990430622, 0.9569377990430622), 'RF': 0.9748803827751196, 'SVC': (0.9700956937799043, 0.9772727272727273), 'KNN': (0.9055023923444976, 0.9407894736842105)}\n"
     ]
    }
   ],
   "source": [
    "pred_dict.update({'KNN':(score11, score12)})\n",
    "print(pred_dict)"
   ]
  },
  {
   "cell_type": "code",
   "execution_count": 244,
   "metadata": {
    "colab": {},
    "colab_type": "code",
    "id": "G3lHl82tLq0I"
   },
   "outputs": [],
   "source": [
    "pred_dict2=pred_dict.copy()"
   ]
  },
  {
   "cell_type": "code",
   "execution_count": 257,
   "metadata": {
    "colab": {
     "base_uri": "https://localhost:8080/",
     "height": 235
    },
    "colab_type": "code",
    "id": "ygB8P_geLuA3",
    "outputId": "23765718-4558-4181-902b-e0cb10601756"
   },
   "outputs": [
    {
     "data": {
      "text/html": [
       "<div>\n",
       "<style scoped>\n",
       "    .dataframe tbody tr th:only-of-type {\n",
       "        vertical-align: middle;\n",
       "    }\n",
       "\n",
       "    .dataframe tbody tr th {\n",
       "        vertical-align: top;\n",
       "    }\n",
       "\n",
       "    .dataframe thead th {\n",
       "        text-align: right;\n",
       "    }\n",
       "</style>\n",
       "<table border=\"1\" class=\"dataframe\">\n",
       "  <thead>\n",
       "    <tr style=\"text-align: right;\">\n",
       "      <th></th>\n",
       "      <th>Base_Score</th>\n",
       "      <th>Tuned_Score</th>\n",
       "    </tr>\n",
       "  </thead>\n",
       "  <tbody>\n",
       "    <tr>\n",
       "      <th>mnb</th>\n",
       "      <td>0.977871</td>\n",
       "      <td>0.977871</td>\n",
       "    </tr>\n",
       "    <tr>\n",
       "      <th>LogReg</th>\n",
       "      <td>0.952751</td>\n",
       "      <td>0.955742</td>\n",
       "    </tr>\n",
       "    <tr>\n",
       "      <th>DT</th>\n",
       "      <td>0.956938</td>\n",
       "      <td>0.956938</td>\n",
       "    </tr>\n",
       "    <tr>\n",
       "      <th>RF</th>\n",
       "      <td>0.974880</td>\n",
       "      <td>0.974880</td>\n",
       "    </tr>\n",
       "    <tr>\n",
       "      <th>SVC</th>\n",
       "      <td>0.970096</td>\n",
       "      <td>0.977273</td>\n",
       "    </tr>\n",
       "    <tr>\n",
       "      <th>KNN</th>\n",
       "      <td>0.905502</td>\n",
       "      <td>0.940789</td>\n",
       "    </tr>\n",
       "  </tbody>\n",
       "</table>\n",
       "</div>"
      ],
      "text/plain": [
       "        Base_Score  Tuned_Score\n",
       "mnb       0.977871     0.977871\n",
       "LogReg    0.952751     0.955742\n",
       "DT        0.956938     0.956938\n",
       "RF        0.974880     0.974880\n",
       "SVC       0.970096     0.977273\n",
       "KNN       0.905502     0.940789"
      ]
     },
     "execution_count": 257,
     "metadata": {
      "tags": []
     },
     "output_type": "execute_result"
    }
   ],
   "source": [
    "dff =pd.DataFrame(data=pred_dict)\n",
    "dff1=dff.T\n",
    "dff1.rename(columns= {0:'Base_Score', 1:'Tuned_Score'}, inplace=True)\n",
    "dff1"
   ]
  },
  {
   "cell_type": "code",
   "execution_count": 262,
   "metadata": {
    "colab": {
     "base_uri": "https://localhost:8080/",
     "height": 434
    },
    "colab_type": "code",
    "id": "xr2BE9kBL7zC",
    "outputId": "bb6b6eea-c653-42f6-c4d9-1cd50d45ce13"
   },
   "outputs": [
    {
     "data": {
      "text/plain": [
       "Text(0.5, 1.0, 'Distribution by Classifier')"
      ]
     },
     "execution_count": 262,
     "metadata": {
      "tags": []
     },
     "output_type": "execute_result"
    },
    {
     "data": {
      "image/png": "[encoded data removed]",
      "text/plain": [
       "<Figure size 792x432 with 1 Axes>"
      ]
     },
     "metadata": {
      "needs_background": "light",
      "tags": []
     },
     "output_type": "display_data"
    }
   ],
   "source": [
    "dff1.plot(kind='bar',figsize=(11,6),  ylim=(0.88,0.99),)\n",
    "\n",
    "plt.ylabel('Accuracy Score')\n",
    "plt.title('Distribution by Classifier')"
   ]
  },
  {
   "cell_type": "code",
   "execution_count": null,
   "metadata": {
    "colab": {},
    "colab_type": "code",
    "id": "uvXXMKfdNv3R"
   },
   "outputs": [],
   "source": [
    "#Observations :\n",
    "#              1. Significant Accuracy Score Improvement for KNN after tuning\n",
    "#              2. Highest Accuracy obtained through Multinomial Naive Bayes Classifer closely followed by SVC\n",
    "#              3. Third best classifier in the series is Random forest classifer"
   ]
  },
  {
   "cell_type": "markdown",
   "metadata": {
    "colab_type": "text",
    "id": "9gH-L2dtdW5N"
   },
   "source": [
    "<a id=section8></a> \n",
    "### 8. Conclusion"
   ]
  },
  {
   "cell_type": "code",
   "execution_count": 77,
   "metadata": {
    "colab": {},
    "colab_type": "code",
    "id": "MP-8SijEc4o4"
   },
   "outputs": [],
   "source": [
    "# The best classification report results are observed through Multinomial Naive Bayes Classifier.\n",
    "# Also the precision, recall and f1-score is obtained by MNB"
   ]
  }
 ],
 "metadata": {
  "colab": {
   "collapsed_sections": [],
   "name": "Copy of SMS_Spam_Detection_ML2.ipynb",
   "provenance": [],
   "toc_visible": true
  },
  "kernelspec": {
   "display_name": "Python 3",
   "language": "python",
   "name": "python3"
  },
  "language_info": {
   "codemirror_mode": {
    "name": "ipython",
    "version": 3
   },
   "file_extension": ".py",
   "mimetype": "text/x-python",
   "name": "python",
   "nbconvert_exporter": "python",
   "pygments_lexer": "ipython3",
   "version": "3.7.3"
  }
 },
 "nbformat": 4,
 "nbformat_minor": 1
}
